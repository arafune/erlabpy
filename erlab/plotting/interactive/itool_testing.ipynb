{
 "cells": [
  {
   "cell_type": "code",
   "execution_count": 1,
   "metadata": {},
   "outputs": [
    {
     "name": "stdout",
     "output_type": "stream",
     "text": [
      "Activating auto-logging. Current session state plus future input saved.\n",
      "Filename       : logs/6a9d823e-5610-4cea-91d0-290fcb328472_2023-03-20_09-37-56.log\n",
      "Mode           : backup\n",
      "Output logging : False\n",
      "Raw input log  : False\n",
      "Timestamping   : False\n",
      "State          : active\n",
      "<class 'PyQt6.QtWidgets.QWidget'>\n"
     ]
    },
    {
     "ename": "TypeError",
     "evalue": "'singleStep' is an unknown keyword argument",
     "output_type": "error",
     "traceback": [
      "\u001b[0;31m---------------------------------------------------------------------------\u001b[0m",
      "\u001b[0;31mTypeError\u001b[0m                                 Traceback (most recent call last)",
      "Cell \u001b[0;32mIn[1], line 97\u001b[0m\n\u001b[1;32m     93\u001b[0m             \u001b[39mself\u001b[39m\u001b[39m.\u001b[39mqapp\u001b[39m.\u001b[39mexec()\n\u001b[1;32m     96\u001b[0m \u001b[39mif\u001b[39;00m \u001b[39m__name__\u001b[39m \u001b[39m==\u001b[39m \u001b[39m\"\u001b[39m\u001b[39m__main__\u001b[39m\u001b[39m\"\u001b[39m:\n\u001b[0;32m---> 97\u001b[0m     win \u001b[39m=\u001b[39m MainWindow()\n",
      "Cell \u001b[0;32mIn[1], line 41\u001b[0m, in \u001b[0;36mMainWindow.__init__\u001b[0;34m(self, *args, **kwargs)\u001b[0m\n\u001b[1;32m     38\u001b[0m \u001b[39mself\u001b[39m\u001b[39m.\u001b[39mtlayout\u001b[39m.\u001b[39maddWidget(\u001b[39mself\u001b[39m\u001b[39m.\u001b[39mgr_wid)\n\u001b[1;32m     39\u001b[0m \u001b[39mself\u001b[39m\u001b[39m.\u001b[39mlayout()\u001b[39m.\u001b[39maddWidget(\u001b[39mself\u001b[39m\u001b[39m.\u001b[39mtop)\n\u001b[0;32m---> 41\u001b[0m \u001b[39mself\u001b[39m\u001b[39m.\u001b[39mgamma_wid \u001b[39m=\u001b[39m ColorMapGammaWidget()\n\u001b[1;32m     42\u001b[0m \u001b[39mself\u001b[39m\u001b[39m.\u001b[39mlayout()\u001b[39m.\u001b[39maddWidget(\u001b[39mself\u001b[39m\u001b[39m.\u001b[39mgamma_wid)\n\u001b[1;32m     43\u001b[0m \u001b[39mself\u001b[39m\u001b[39m.\u001b[39mgamma_wid\u001b[39m.\u001b[39mvalueChanged\u001b[39m.\u001b[39mconnect(\n\u001b[1;32m     44\u001b[0m     \u001b[39mlambda\u001b[39;00m g: \u001b[39mself\u001b[39m\u001b[39m.\u001b[39m_set_gamma(gamma\u001b[39m=\u001b[39mg)\n\u001b[1;32m     45\u001b[0m )\n",
      "File \u001b[0;32m~/Source/python/erlabpy/erlab/plotting/interactive/imagetool_new.py:1557\u001b[0m, in \u001b[0;36mColorMapGammaWidget.__init__\u001b[0;34m(self, value)\u001b[0m\n\u001b[1;32m   1554\u001b[0m \u001b[39mself\u001b[39m\u001b[39m.\u001b[39mlayout()\u001b[39m.\u001b[39msetContentsMargins(\u001b[39m0\u001b[39m, \u001b[39m0\u001b[39m, \u001b[39m0\u001b[39m, \u001b[39m0\u001b[39m)\n\u001b[1;32m   1556\u001b[0m \u001b[39mself\u001b[39m\u001b[39m.\u001b[39mlayout()\u001b[39m.\u001b[39msetSpacing(\u001b[39m3\u001b[39m)\n\u001b[0;32m-> 1557\u001b[0m \u001b[39mself\u001b[39m\u001b[39m.\u001b[39mspin \u001b[39m=\u001b[39m BetterSpinBox(\n\u001b[1;32m   1558\u001b[0m     \u001b[39mself\u001b[39;49m,\n\u001b[1;32m   1559\u001b[0m     toolTip\u001b[39m=\u001b[39;49m\u001b[39m\"\u001b[39;49m\u001b[39mColormap gamma\u001b[39;49m\u001b[39m\"\u001b[39;49m,\n\u001b[1;32m   1560\u001b[0m     decimals\u001b[39m=\u001b[39;49m\u001b[39m2\u001b[39;49m,\n\u001b[1;32m   1561\u001b[0m     wrapping\u001b[39m=\u001b[39;49m\u001b[39mFalse\u001b[39;49;00m,\n\u001b[1;32m   1562\u001b[0m     keyboardTracking\u001b[39m=\u001b[39;49m\u001b[39mFalse\u001b[39;49;00m,\n\u001b[1;32m   1563\u001b[0m     singleStep\u001b[39m=\u001b[39;49m\u001b[39m0.1\u001b[39;49m,\n\u001b[1;32m   1564\u001b[0m     minimum\u001b[39m=\u001b[39;49m\u001b[39m0.01\u001b[39;49m,\n\u001b[1;32m   1565\u001b[0m     maximum\u001b[39m=\u001b[39;49m\u001b[39m99.99\u001b[39;49m,\n\u001b[1;32m   1566\u001b[0m     value\u001b[39m=\u001b[39;49mvalue,\n\u001b[1;32m   1567\u001b[0m )\n\u001b[1;32m   1568\u001b[0m \u001b[39mself\u001b[39m\u001b[39m.\u001b[39mlabel \u001b[39m=\u001b[39m QtWidgets\u001b[39m.\u001b[39mQLabel(\u001b[39mself\u001b[39m, text\u001b[39m=\u001b[39m\u001b[39m\"\u001b[39m\u001b[39mγ\u001b[39m\u001b[39m\"\u001b[39m, buddy\u001b[39m=\u001b[39m\u001b[39mself\u001b[39m\u001b[39m.\u001b[39mspin)\n\u001b[1;32m   1569\u001b[0m \u001b[39m# self.label.setIndent(0)\u001b[39;00m\n",
      "File \u001b[0;32m~/Source/python/erlabpy/erlab/plotting/interactive/utilities.py:216\u001b[0m, in \u001b[0;36mBetterSpinBox.__init__\u001b[0;34m(self, integer, compact, discrete, decimals, significant, scientific, value, *args, **kwargs)\u001b[0m\n\u001b[1;32m    214\u001b[0m \u001b[39mself\u001b[39m\u001b[39m.\u001b[39m_max \u001b[39m=\u001b[39m np\u001b[39m.\u001b[39minf\n\u001b[1;32m    215\u001b[0m \u001b[39mself\u001b[39m\u001b[39m.\u001b[39m_step \u001b[39m=\u001b[39m \u001b[39m1\u001b[39m \u001b[39mif\u001b[39;00m \u001b[39mself\u001b[39m\u001b[39m.\u001b[39m_only_int \u001b[39melse\u001b[39;00m \u001b[39m0.01\u001b[39m\n\u001b[0;32m--> 216\u001b[0m \u001b[39msuper\u001b[39;49m()\u001b[39m.\u001b[39;49m\u001b[39m__init__\u001b[39;49m(\u001b[39m*\u001b[39;49margs, \u001b[39m*\u001b[39;49m\u001b[39m*\u001b[39;49mkwargs)\n\u001b[1;32m    217\u001b[0m \u001b[39m# self.editingFinished.disconnect()\u001b[39;00m\n\u001b[1;32m    218\u001b[0m \u001b[39mself\u001b[39m\u001b[39m.\u001b[39msetSizePolicy(\n\u001b[1;32m    219\u001b[0m     \u001b[39m# QtWidgets.QSizePolicy.Policy.Expanding,\u001b[39;00m\n\u001b[1;32m    220\u001b[0m     \u001b[39m# QtWidgets.QSizePolicy.Policy.Preferred,\u001b[39;00m\n\u001b[1;32m    221\u001b[0m     QtWidgets\u001b[39m.\u001b[39mQSizePolicy\u001b[39m.\u001b[39mPolicy\u001b[39m.\u001b[39mMinimum,\n\u001b[1;32m    222\u001b[0m     QtWidgets\u001b[39m.\u001b[39mQSizePolicy\u001b[39m.\u001b[39mPolicy\u001b[39m.\u001b[39mFixed,\n\u001b[1;32m    223\u001b[0m )\n",
      "\u001b[0;31mTypeError\u001b[0m: 'singleStep' is an unknown keyword argument"
     ]
    }
   ],
   "source": [
    "import sys\n",
    "import numpy as np\n",
    "import pyqtgraph as pg\n",
    "from PySide6 import QtWidgets, QtCore\n",
    "from erlab.plotting.interactive.utilities import BetterColorBarItem, BetterImageItem\n",
    "from erlab.plotting.interactive.colors import pg_colormap_powernorm\n",
    "from erlab.plotting.interactive.imagetool_new import ColorMapGammaWidget\n",
    "\n",
    "class ItoolColorBar(pg.PlotWidget):\n",
    "    def __init__(self, **cbar_kw):\n",
    "        super().__init__(plotItem=BetterColorBarItem(**cbar_kw))\n",
    "        self.scene().sigMouseClicked.connect(self.getPlotItem().mouseDragEvent)\n",
    "\n",
    "    @property\n",
    "    def colorbar(self) -> BetterColorBarItem:\n",
    "        return self.plotItem\n",
    "    \n",
    "    def getPlotItem(self) -> BetterColorBarItem:\n",
    "        return self.plotItem\n",
    "\n",
    "    def getPlotItemViewBox(self) -> pg.ViewBox:\n",
    "        return self.getPlotItem().vb\n",
    "\n",
    "class MainWindow(QtWidgets.QWidget):\n",
    "    \"\"\" example application main window \"\"\"\n",
    "    def __init__(self, *args, **kwargs):\n",
    "        self.qapp = QtCore.QCoreApplication.instance()\n",
    "        if not self.qapp:\n",
    "            self.qapp = QtWidgets.QApplication(sys.argv)\n",
    "        self.qapp.setStyle(\"Fusion\")\n",
    "\n",
    "        super().__init__()\n",
    "\n",
    "        self.setLayout(QtWidgets.QVBoxLayout(self))\n",
    "        self.top = QtWidgets.QWidget(self)\n",
    "        self.tlayout = QtWidgets.QHBoxLayout(self.top)\n",
    "        self.gr_wid = pg.GraphicsLayoutWidget(show=True)\n",
    "        self.tlayout.addWidget(self.gr_wid)\n",
    "        self.layout().addWidget(self.top)\n",
    "        \n",
    "        self.gamma_wid = ColorMapGammaWidget()\n",
    "        self.layout().addWidget(self.gamma_wid)\n",
    "        self.gamma_wid.valueChanged.connect(\n",
    "            lambda g: self._set_gamma(gamma=g)\n",
    "        )\n",
    "        \n",
    "        # self.setCentralWidget(self.gr_wid)\n",
    "        # self.setWindowTitle('pyqtgraph example: Interactive color bar')\n",
    "\n",
    "        ## Create image items\n",
    "        data = np.fromfunction(lambda i, j: (1+0.3*np.sin(i)) * (i)**2 + (j)**2, (200, 200))\n",
    "        # noisy_data = data * (1 + 0.2 * np.random.random(data.shape) )\n",
    "        # noisy_transposed = noisy_data.transpose()\n",
    "\n",
    "        lvl = (data.min(), data.max())\n",
    "        #--- add non-interactive image with integrated color ------------------\n",
    "        p1 = self.gr_wid.addPlot(title=\"non-interactive\")\n",
    "        self.image = BetterImageItem(image=data)\n",
    "        p1.addItem(self.image)\n",
    "        self._set_gamma(0.5)\n",
    "        # self.cbar = ItoolColorBar()\n",
    "        self.cbar = BetterColorBarItem()\n",
    "        self.cbar.setImageItem(image=self.image, insert_in=p1)\n",
    "        # self.cbar = ItoolColorBar()\n",
    "        \n",
    "        \n",
    "        # self.tlayout.addWidget(self.cbar)\n",
    "        # self.cbar.colorbar.setImageItem(self.image)\n",
    "        \n",
    "        self.__post_init__(execute=True)\n",
    "        \n",
    "    def _set_gamma(self, gamma):\n",
    "        cmap = pg_colormap_powernorm(\"magma\",gamma)\n",
    "        self.image._colorMap = cmap\n",
    "        self.image.setLookupTable(cmap.getStops()[1], update=True)\n",
    "        self.image.updateImage()\n",
    "        self.image.sigColorChanged.emit()\n",
    "        \n",
    "    def __post_init__(self, execute=None):\n",
    "        self.show()\n",
    "        self.activateWindow()\n",
    "        self.raise_()\n",
    "\n",
    "        if execute is None:\n",
    "            execute = True\n",
    "            try:\n",
    "                shell = get_ipython().__class__.__name__  # type: ignore\n",
    "                if shell in [\"ZMQInteractiveShell\", \"TerminalInteractiveShell\"]:\n",
    "                    execute = False\n",
    "            except NameError:\n",
    "                pass\n",
    "        if execute:\n",
    "            self.qapp.exec()\n",
    "        \n",
    "        \n",
    "if __name__ == \"__main__\":\n",
    "    win = MainWindow()"
   ]
  },
  {
   "cell_type": "code",
   "execution_count": 2,
   "metadata": {},
   "outputs": [],
   "source": [
    "qapp = QtCore.QCoreApplication.instance()"
   ]
  },
  {
   "cell_type": "code",
   "execution_count": 9,
   "metadata": {},
   "outputs": [],
   "source": [
    "spin = QtWidgets.QAbstractSpinBox()\n"
   ]
  },
  {
   "cell_type": "code",
   "execution_count": 10,
   "metadata": {},
   "outputs": [
    {
     "ename": "AttributeError",
     "evalue": "'QAbstractSpinBox' object has no attribute 'setMinimum'",
     "output_type": "error",
     "traceback": [
      "\u001b[0;31m---------------------------------------------------------------------------\u001b[0m",
      "\u001b[0;31mAttributeError\u001b[0m                            Traceback (most recent call last)",
      "Cell \u001b[0;32mIn[10], line 1\u001b[0m\n\u001b[0;32m----> 1\u001b[0m spin\u001b[39m.\u001b[39;49msetMinimum(\u001b[39m10\u001b[39m)\n",
      "\u001b[0;31mAttributeError\u001b[0m: 'QAbstractSpinBox' object has no attribute 'setMinimum'"
     ]
    }
   ],
   "source": [
    "spin.setMinimum(10)"
   ]
  },
  {
   "cell_type": "code",
   "execution_count": 47,
   "metadata": {},
   "outputs": [
    {
     "data": {
      "text/plain": [
       "2.73156"
      ]
     },
     "execution_count": 47,
     "metadata": {},
     "output_type": "execute_result"
    }
   ],
   "source": [
    "3.4*0.618*1.3"
   ]
  },
  {
   "cell_type": "code",
   "execution_count": 46,
   "metadata": {},
   "outputs": [
    {
     "data": {
      "text/plain": [
       "4.42"
      ]
     },
     "execution_count": 46,
     "metadata": {},
     "output_type": "execute_result"
    }
   ],
   "source": [
    "3.4*1.3"
   ]
  },
  {
   "cell_type": "code",
   "execution_count": 2,
   "metadata": {},
   "outputs": [
    {
     "data": {
      "text/plain": [
       "<matplotlib.legend.Legend at 0x16a92baf0>"
      ]
     },
     "execution_count": 2,
     "metadata": {},
     "output_type": "execute_result"
    },
    {
     "data": {
      "image/png": "[encoded data removed]",
      "text/plain": [
       "<Figure size 596.7x368.766 with 5 Axes>"
      ]
     },
     "metadata": {},
     "output_type": "display_data"
    }
   ],
   "source": [
    "import matplotlib.pyplot as plt\n",
    "import erlab.plotting.erplot as eplt\n",
    "import pyqtgraph as pg\n",
    "import numpy as np\n",
    "import matplotlib.colors as mcolors\n",
    "\n",
    "plt.style.use(['khan'])\n",
    "\n",
    "gamma = 0.25\n",
    "linw = 0.05\n",
    "cmap = \"Blues\"\n",
    "\n",
    "x = np.linspace(0, 1, 2048)\n",
    "\n",
    "fig, axs = plt.subplots(1, 5, width_ratios=(5, 1, 1, 1,1), figsize=(4.42, 2.7316), layout=\"constrained\")\n",
    "\n",
    "\n",
    "axs[0].plot(x, x, label=\"Linear\")\n",
    "axs[0].plot(x, mcolors.AsinhNorm(linw, vmin=0, vmax=1)(x), label=f\"AsinhNorm ($l={linw}$)\")\n",
    "axs[0].plot(x, mcolors.PowerNorm(gamma, vmin=0, vmax=1)(x), label=f\"PowerNorm ($\\\\gamma={gamma}$)\")\n",
    "axs[0].plot(x, eplt.InversePowerNorm(gamma, vmin=0, vmax=1)(x), label=f\"InversePowerNorm ($\\\\gamma={gamma}$)\")\n",
    "# axs[0].plot(x, eplt.InversePowerNorm(gamma, vmin=0, vmax=1)(x), label=f\"InversePowerNorm ($\\\\gamma={gamma}$)\")\n",
    "# axs[0].plot(x, np.power(1 - x, gamma) * -1 + 1, label=f\"InversePowerNorm ($\\\\gamma={gamma}$)\")\n",
    "\n",
    "\n",
    "bar_data = pg.colormap.modulatedBarData(384, 256)\n",
    "for i, (ax, norm) in enumerate(zip(axs[1:], (\n",
    "    None,\n",
    "    mcolors.AsinhNorm(linw),\n",
    "    mcolors.PowerNorm(gamma),\n",
    "    eplt.InversePowerNorm(gamma),\n",
    "    ))):\n",
    "    ax.plot(0.5, 1, 'o', c=f\"k\", mew=0.5, ms=5, mfc=f\"C{i}\", transform=ax.transAxes, zorder=10, clip_on=False)\n",
    "    ax.imshow(bar_data, extent=(0, 1, 0, 1), interpolation=\"none\", rasterized=True, cmap=cmap, norm=norm)\n",
    "    ax.yaxis.tick_right()\n",
    "    ax.set_xticks([])\n",
    "    # eplt.proportional_colorbar(plt.cm.ScalarMappable(cmap=cmap), cax=ax, norm=norm)\n",
    "\n",
    "for ax in axs[1:-1]:\n",
    "    ax.set_yticklabels([])\n",
    "\n",
    "axs[0].sharey(axs[-1])\n",
    "axs[0].legend(facecolor=\"none\", edgecolor=\"none\")\n",
    "# fig.savefig(\"/Users/khan/Desktop/norm_test.pdf\")"
   ]
  },
  {
   "cell_type": "code",
   "execution_count": 4,
   "metadata": {},
   "outputs": [],
   "source": [
    "import matplotlib.sphinxext.plot_directive"
   ]
  },
  {
   "cell_type": "code",
   "execution_count": 4,
   "metadata": {},
   "outputs": [
    {
     "data": {
      "image/png": "[encoded data removed]",
      "text/plain": [
       "<Figure size 442x273.16 with 4 Axes>"
      ]
     },
     "metadata": {},
     "output_type": "display_data"
    }
   ],
   "source": [
    "import numpy as np\n",
    "import matplotlib\n",
    "\n",
    "import matplotlib.colors as mcolors\n",
    "import matplotlib.pyplot as plt\n",
    "from pyqtgraph.colormap import modulatedBarData\n",
    "\n",
    "import erlab.plotting.erplot as eplt\n",
    "\n",
    "# plt.style.use(['khan', 'fira'])\n",
    "\n",
    "gamma = 0.25\n",
    "linw = 0.05\n",
    "cmap = \"Blues\"\n",
    "\n",
    "x = np.linspace(0, 1, 2048)\n",
    "\n",
    "fig, axs = plt.subplots(1, 4, width_ratios=(6, 1, 1, 1), figsize=(4.42, 2.7316))\n",
    "\n",
    "\n",
    "axs[0].plot(x, x, label=\"Linear\")\n",
    "# axs[0].plot(x, mcolors.AsinhNorm(linw, vmin=0, vmax=1)(x), label=f\"AsinhNorm ($l={linw}$)\")\n",
    "axs[0].plot(x, mcolors.PowerNorm(gamma, vmin=0, vmax=1)(x), label=f\"PowerNorm ($\\\\gamma={gamma}$)\")\n",
    "axs[0].plot(x, eplt.InversePowerNorm(gamma, vmin=0, vmax=1)(x), label=f\"InversePowerNorm ($\\\\gamma={gamma}$)\")\n",
    "# axs[0].plot(x, eplt.InversePowerNorm(gamma, vmin=0, vmax=1)(x), label=f\"InversePowerNorm ($\\\\gamma={gamma}$)\")\n",
    "# axs[0].plot(x, np.power(1 - x, gamma) * -1 + 1, label=f\"InversePowerNorm ($\\\\gamma={gamma}$)\")\n",
    "\n",
    "\n",
    "bar_data = modulatedBarData(384, 256)\n",
    "for i, (ax, norm) in enumerate(zip(axs[1:], (\n",
    "    None,\n",
    "    mcolors.PowerNorm(gamma),\n",
    "    eplt.InversePowerNorm(gamma),\n",
    "    ))):\n",
    "    ax.plot(0.5, 1, 'o', c=f\"k\", mew=0.5, ms=5, mfc=f\"C{i}\", transform=ax.transAxes, zorder=10, clip_on=False)\n",
    "    ax.imshow(bar_data, extent=(0, 1, 0, 1), interpolation=\"none\", rasterized=True, cmap=cmap, norm=norm)\n",
    "    ax.yaxis.tick_right()\n",
    "    ax.set_xticks([])\n",
    "    # eplt.proportional_colorbar(plt.cm.ScalarMappable(cmap=cmap), cax=ax, norm=norm)\n",
    "\n",
    "for ax in axs[1:-1]:\n",
    "    ax.set_yticklabels([])\n",
    "\n",
    "\n",
    "axs[0].sharey(axs[-1])\n",
    "axs[0].legend(facecolor=\"none\", edgecolor=\"none\")\n",
    "# fig.savefig(\"/Users/khan/Desktop/norm_test.pdf\"\n",
    "# \n",
    "plt.show()"
   ]
  },
  {
   "cell_type": "code",
   "execution_count": 17,
   "metadata": {},
   "outputs": [
    {
     "name": "stdout",
     "output_type": "stream",
     "text": [
      "asdf\n"
     ]
    },
    {
     "data": {
      "text/plain": [
       "array([1.e+20, 1.e+20, 1.e+20, ..., 1.e+20, 1.e+20, 5.e-01])"
      ]
     },
     "execution_count": 17,
     "metadata": {},
     "output_type": "execute_result"
    }
   ],
   "source": [
    "eplt.TwoSlopePowerNorm(gamma, vcenter=0.5, vmin=0, vmax=1).inverse(x).data"
   ]
  },
  {
   "cell_type": "code",
   "execution_count": 38,
   "metadata": {},
   "outputs": [
    {
     "data": {
      "text/plain": [
       "[<matplotlib.lines.Line2D at 0x165764bb0>]"
      ]
     },
     "execution_count": 38,
     "metadata": {},
     "output_type": "execute_result"
    },
    {
     "data": {
      "image/png": "[encoded data removed]",
      "text/plain": [
       "<Figure size 459x344.25 with 1 Axes>"
      ]
     },
     "metadata": {},
     "output_type": "display_data"
    }
   ],
   "source": [
    "x = np.linspace(0, 1, 1024)\n",
    "plt.plot(x, eplt.TwoSlopePowerNorm(gamma, vcenter=0.5, vmin=0, vmax=1)(x))\n",
    "plt.plot(x, eplt.CenteredPowerNorm(gamma, vcenter=0.5,halfrange=0.5 )(x))\n",
    "plt.plot(x, eplt.TwoSlopeInversePowerNorm(gamma, vcenter=0.5, vmin=0, vmax=1)(x))\n",
    "plt.plot(x, eplt.CenteredInversePowerNorm(gamma, vcenter=0.5, halfrange=0.5)(x))\n",
    "plt.plot(x, mcolors.AsinhNorm(linear_width=0.2, vmin=0, vmax=1)(x), '--')\n",
    "\n",
    "# plt.plot(x, mcolors.PowerNorm(gamma, vmin=0, vmax=1).inverse(x))"
   ]
  },
  {
   "cell_type": "code",
   "execution_count": 21,
   "metadata": {},
   "outputs": [
    {
     "data": {
      "text/plain": [
       "<matplotlib.legend.Legend at 0x16400f5e0>"
      ]
     },
     "execution_count": 21,
     "metadata": {},
     "output_type": "execute_result"
    },
    {
     "data": {
      "image/png": "[encoded data removed]",
      "text/plain": [
       "<Figure size 596.7x368.766 with 4 Axes>"
      ]
     },
     "metadata": {},
     "output_type": "display_data"
    }
   ],
   "source": [
    "\n",
    "gamma = 0.4\n",
    "cmap = \"bwr\"\n",
    "\n",
    "x = np.linspace(0, 1, 2048)\n",
    "\n",
    "fig, axs = plt.subplots(1, 4, width_ratios=(6, 1, 1, 1), figsize=(4.42, 2.7316), layout=\"constrained\")\n",
    "\n",
    "\n",
    "axs[0].plot(x, x, label=\"Linear\")\n",
    "axs[0].plot(x, eplt.CenteredPowerNorm(gamma, vcenter=0.5, halfrange=0.5)(x), label=f\"CenteredPowerNorm ($\\\\gamma={gamma}$)\")\n",
    "axs[0].plot(x, eplt.CenteredInversePowerNorm(gamma, vcenter=0.5, halfrange=0.5)(x), label=f\"CenteredInversePowerNorm ($\\\\gamma={gamma}$)\")\n",
    "# axs[0].plot(x, np.power(1 - x, gamma) * -1 + 1, label=f\"InversePowerNorm ($\\\\gamma={gamma}$)\")\n",
    "\n",
    "bar_data = pg.colormap.modulatedBarData(384, 256)\n",
    "for i, (ax, norm) in enumerate(zip(axs[1:], (None, eplt.CenteredPowerNorm(gamma, vcenter=0.5), eplt.CenteredInversePowerNorm(gamma, vcenter=0.5)))):\n",
    "    ax.plot(0.5, 1, 'o', c=f\"k\", mew=0.5, ms=5, mfc=f\"C{i}\", transform=ax.transAxes, zorder=10, clip_on=False)\n",
    "    ax.imshow(bar_data, extent=(0, 1, 0, 1), interpolation=\"none\", rasterized=True, cmap=cmap, norm=norm)\n",
    "    ax.yaxis.tick_right()\n",
    "    ax.set_xticks([])\n",
    "    # eplt.proportional_colorbar(plt.cm.ScalarMappable(cmap=cmap), cax=ax, norm=norm)\n",
    "\n",
    "axs[2].set_yticklabels([])\n",
    "axs[1].set_yticklabels([])\n",
    "\n",
    "axs[0].sharey(axs[-1])\n",
    "axs[0].legend(facecolor=\"none\", edgecolor=\"none\")"
   ]
  },
  {
   "cell_type": "code",
   "execution_count": null,
   "metadata": {},
   "outputs": [],
   "source": [
    "import numpy as np\n",
    "np.float64"
   ]
  },
  {
   "cell_type": "code",
   "execution_count": null,
   "metadata": {},
   "outputs": [],
   "source": [
    "def _diverging_powernorm(result, gamma, vmin, vmax, vcenter):\n",
    "    resdat = result.data\n",
    "    resdat_ = resdat.copy()\n",
    "    resdat_l = resdat[resdat_ < vcenter]\n",
    "    resdat_u = resdat[resdat_ >= vcenter]\n",
    "    resdat_l -= vcenter\n",
    "    resdat_u -= vcenter\n",
    "    resdat_l[resdat_l >= 0] = 0\n",
    "    resdat_u[resdat_u < 0] = 0\n",
    "    np.power(resdat_u, gamma, resdat_u)\n",
    "    np.power(-resdat_l, gamma, resdat_l)\n",
    "    resdat_u /= (vmax - vcenter) ** gamma\n",
    "    resdat_l /= (vcenter - vmin) ** gamma\n",
    "    resdat_u *= 0.5\n",
    "    resdat_u += 0.5\n",
    "    resdat_l *= -0.5\n",
    "    resdat_l += 0.5\n",
    "    resdat[resdat_ < vcenter] = resdat_l\n",
    "    resdat[resdat_ >= vcenter] = resdat_u\n",
    "    result = np.ma.array(resdat, mask=result.mask, copy=False)\n",
    "    return result\n",
    "\n",
    "def _diverging_powernorm_inv(value, gamma, vmin, vmax, vcenter):\n",
    "    if np.iterable(value):\n",
    "        val = np.ma.asarray(value)\n",
    "        val_ = val.copy()\n",
    "        val_l = val[val_ < 0.5]\n",
    "        val_u = val[val_ >= 0.5]\n",
    "        val[val_ < 0.5] = (\n",
    "            np.ma.power(1 - 2 * val_l, 1.0 / gamma) * (vmin - vcenter) + vcenter\n",
    "        )\n",
    "        val[val_ >= 0.5] = (\n",
    "            np.ma.power(2 * val_u - 1, 1.0 / gamma) * (vmax - vcenter) + vcenter\n",
    "        )\n",
    "        return np.ma.asarray(val)\n",
    "    else:\n",
    "        if value < 0.5:\n",
    "            return pow(1 - 2 * value, 1.0 / gamma) * (vmin - vcenter) + vcenter\n",
    "        else:\n",
    "            return pow(2 * value - 1, 1.0 / gamma) * (vmax - vcenter) + vcenter\n",
    "\n"
   ]
  },
  {
   "cell_type": "code",
   "execution_count": 285,
   "metadata": {},
   "outputs": [
    {
     "data": {
      "text/plain": [
       "'(×0.0001)'"
      ]
     },
     "execution_count": 285,
     "metadata": {},
     "output_type": "execute_result"
    }
   ],
   "source": [
    "\"(×%1.3g)\" % 0.0001"
   ]
  },
  {
   "cell_type": "code",
   "execution_count": 3,
   "metadata": {},
   "outputs": [
    {
     "data": {
      "text/plain": [
       "dtype('float64')"
      ]
     },
     "execution_count": 3,
     "metadata": {},
     "output_type": "execute_result"
    }
   ],
   "source": [
    "import numpy as np\n",
    "import numpy.typing as npt\n",
    "\n",
    "np.dtype(float)\n",
    "npt.nda"
   ]
  },
  {
   "cell_type": "code",
   "execution_count": 6,
   "metadata": {},
   "outputs": [
    {
     "data": {
      "text/plain": [
       "numpy.float64"
      ]
     },
     "execution_count": 6,
     "metadata": {},
     "output_type": "execute_result"
    }
   ],
   "source": [
    "np.float64"
   ]
  },
  {
   "cell_type": "code",
   "execution_count": 329,
   "metadata": {},
   "outputs": [
    {
     "data": {
      "text/plain": [
       "2000.0"
      ]
     },
     "execution_count": 329,
     "metadata": {},
     "output_type": "execute_result"
    }
   ],
   "source": [
    "1e3 * np.log10(100)"
   ]
  },
  {
   "cell_type": "code",
   "execution_count": 314,
   "metadata": {},
   "outputs": [
    {
     "data": {
      "text/plain": [
       "array([1.        , 0.66666667, 0.33333333, 0.        ])"
      ]
     },
     "execution_count": 314,
     "metadata": {},
     "output_type": "execute_result"
    }
   ],
   "source": [
    "1-np.linspace(0, 1, 4)"
   ]
  },
  {
   "cell_type": "code",
   "execution_count": 313,
   "metadata": {},
   "outputs": [
    {
     "data": {
      "text/plain": [
       "array([1.        , 0.66666667, 0.33333333, 0.        ])"
      ]
     },
     "execution_count": 313,
     "metadata": {},
     "output_type": "execute_result"
    }
   ],
   "source": [
    "np.linspace(1,0, 4)"
   ]
  },
  {
   "cell_type": "code",
   "execution_count": 308,
   "metadata": {},
   "outputs": [],
   "source": [
    "def _viewstr_exponent(string: str):\n",
    "    for k, v in zip(\n",
    "        (\"0\", \"1\", \"2\", \"3\", \"4\", \"5\", \"6\", \"7\", \"8\", \"9\", \"-\"),\n",
    "        (\"⁰\", \"¹\", \"²\", \"³\", \"⁴\", \"⁵\", \"⁶\", \"⁷\", \"⁸\", \"⁹\", \"⁻\"),\n",
    "    ):\n",
    "        string = string.replace(k, v)\n",
    "    return string\n"
   ]
  },
  {
   "cell_type": "code",
   "execution_count": 197,
   "metadata": {},
   "outputs": [
    {
     "data": {
      "text/plain": [
       "'1e-01'"
      ]
     },
     "execution_count": 197,
     "metadata": {},
     "output_type": "execute_result"
    }
   ],
   "source": [
    "np.format_float_scientific(0.1, trim=\"-\")"
   ]
  },
  {
   "cell_type": "code",
   "execution_count": null,
   "metadata": {},
   "outputs": [],
   "source": [
    "(×%.3G)"
   ]
  },
  {
   "cell_type": "code",
   "execution_count": 180,
   "metadata": {},
   "outputs": [
    {
     "data": {
      "text/plain": [
       "'(×1E-05)'"
      ]
     },
     "execution_count": 180,
     "metadata": {},
     "output_type": "execute_result"
    }
   ],
   "source": [
    "f\"(×{0.00001:.3G})\""
   ]
  },
  {
   "cell_type": "code",
   "execution_count": 57,
   "metadata": {},
   "outputs": [
    {
     "data": {
      "text/plain": [
       "<ipykernel.zmqshell.ZMQInteractiveShell at 0x10608a7a0>"
      ]
     },
     "execution_count": 57,
     "metadata": {},
     "output_type": "execute_result"
    }
   ],
   "source": [
    "get_ipython()"
   ]
  },
  {
   "cell_type": "code",
   "execution_count": 155,
   "metadata": {},
   "outputs": [
    {
     "name": "stdout",
     "output_type": "stream",
     "text": [
      "(×1E+03)\n"
     ]
    },
    {
     "data": {
      "text/plain": [
       "'(×10<sup>3</sup>)'"
      ]
     },
     "execution_count": 155,
     "metadata": {},
     "output_type": "execute_result"
    }
   ],
   "source": [
    "import re\n",
    "# print(ts)\n",
    "# re.sub(r\"1E\\+0?(\\d?\\d)\", r\"10<sup>\\1</sup>\", ts)"
   ]
  },
  {
   "cell_type": "code",
   "execution_count": 295,
   "metadata": {},
   "outputs": [],
   "source": []
  },
  {
   "cell_type": "code",
   "execution_count": 309,
   "metadata": {},
   "outputs": [
    {
     "data": {
      "text/plain": [
       "'⁻³'"
      ]
     },
     "execution_count": 309,
     "metadata": {},
     "output_type": "execute_result"
    }
   ],
   "source": []
  },
  {
   "cell_type": "code",
   "execution_count": null,
   "metadata": {},
   "outputs": [],
   "source": [
    "re.find(r\"1E\\+?(\\-?)0?(\\d?\\d)\")"
   ]
  },
  {
   "cell_type": "code",
   "execution_count": null,
   "metadata": {},
   "outputs": [],
   "source": [
    "\"1E+03\"\n",
    "\n",
    "\"10<sup></sup>\""
   ]
  },
  {
   "cell_type": "code",
   "execution_count": 97,
   "metadata": {},
   "outputs": [
    {
     "data": {
      "text/plain": [
       "'1e+2'"
      ]
     },
     "execution_count": 97,
     "metadata": {},
     "output_type": "execute_result"
    }
   ],
   "source": [
    "np.format_float_scientific(1.0/0.01, min_digits=0   , unique=True, exp_digits=0, trim=\"-\")"
   ]
  },
  {
   "cell_type": "code",
   "execution_count": 25,
   "metadata": {},
   "outputs": [
    {
     "data": {
      "text/plain": [
       "(0.001, 'k')"
      ]
     },
     "execution_count": 25,
     "metadata": {},
     "output_type": "execute_result"
    }
   ],
   "source": [
    "pg.siScale(1000)"
   ]
  },
  {
   "cell_type": "code",
   "execution_count": 10,
   "metadata": {},
   "outputs": [],
   "source": [
    "from PySide6 import QtGui"
   ]
  },
  {
   "cell_type": "code",
   "execution_count": 29,
   "metadata": {},
   "outputs": [
    {
     "data": {
      "text/plain": [
       "7"
      ]
     },
     "execution_count": 29,
     "metadata": {},
     "output_type": "execute_result"
    }
   ],
   "source": [
    "QtGui.QFontMetrics(spin.font()).boundingRect(\"0\").width()\n"
   ]
  },
  {
   "cell_type": "code",
   "execution_count": 30,
   "metadata": {},
   "outputs": [
    {
     "data": {
      "text/plain": [
       "27"
      ]
     },
     "execution_count": 30,
     "metadata": {},
     "output_type": "execute_result"
    }
   ],
   "source": []
  },
  {
   "cell_type": "code",
   "execution_count": 26,
   "metadata": {},
   "outputs": [
    {
     "data": {
      "text/plain": [
       "'0.00'"
      ]
     },
     "execution_count": 26,
     "metadata": {},
     "output_type": "execute_result"
    }
   ],
   "source": []
  },
  {
   "cell_type": "code",
   "execution_count": 27,
   "metadata": {},
   "outputs": [
    {
     "data": {
      "text/plain": [
       "19"
      ]
     },
     "execution_count": 27,
     "metadata": {},
     "output_type": "execute_result"
    }
   ],
   "source": [
    "55-36"
   ]
  },
  {
   "cell_type": "code",
   "execution_count": 21,
   "metadata": {},
   "outputs": [
    {
     "data": {
      "text/plain": [
       "PySide6.QtCore.QSize(55, 25)"
      ]
     },
     "execution_count": 21,
     "metadata": {},
     "output_type": "execute_result"
    }
   ],
   "source": [
    "spin.minimumSizeHint()"
   ]
  },
  {
   "cell_type": "code",
   "execution_count": 15,
   "metadata": {},
   "outputs": [
    {
     "data": {
      "text/plain": [
       "36"
      ]
     },
     "execution_count": 15,
     "metadata": {},
     "output_type": "execute_result"
    }
   ],
   "source": [
    "spin.minimumSizeHint().width()"
   ]
  },
  {
   "cell_type": "code",
   "execution_count": 39,
   "metadata": {},
   "outputs": [
    {
     "data": {
      "text/plain": [
       "[<weakref at 0x2adee9d50; to 'ImageItem' at 0x2b54fa780>]"
      ]
     },
     "execution_count": 39,
     "metadata": {},
     "output_type": "execute_result"
    }
   ],
   "source": [
    "win.cbar.colorbar._images"
   ]
  },
  {
   "cell_type": "code",
   "execution_count": 2,
   "metadata": {},
   "outputs": [
    {
     "name": "stdout",
     "output_type": "stream",
     "text": [
      "Activating auto-logging. Current session state plus future input saved.\n",
      "Filename       : logs/0d4559e2-932a-40dd-a18c-9f639f95c353_2023-03-05_17-20-40.log\n",
      "Mode           : backup\n",
      "Output logging : False\n",
      "Raw input log  : False\n",
      "Timestamping   : False\n",
      "State          : active\n"
     ]
    }
   ],
   "source": [
    "import numpy as np\n",
    "import numba\n",
    "import xarray as xr\n",
    "\n",
    "import erlab.plotting.erplot as eplt\n",
    "\n",
    "@numba.njit(fastmath=True)\n",
    "def E(kx, ky, a=6.97, t=0.76):\n",
    "    val = t * np.sqrt(\n",
    "        1\n",
    "        + 4 * np.cos(0.5 * kx * a) ** 2\n",
    "        + 4 * np.cos(0.5 * kx * a) * np.cos(0.5 * np.sqrt(3) * ky * a)\n",
    "    )\n",
    "    return val\n",
    "\n",
    "@numba.njit(fastmath=True)\n",
    "def spectral_function(w, bareband, Sreal, Simag):\n",
    "    return -Simag / (np.pi * ((w - bareband - Sreal) ** 2 + Simag**2))\n",
    "\n",
    "\n",
    "\n",
    "@numba.njit(fastmath=True)\n",
    "def get_phase(kx, ky, a):\n",
    "    m1 = np.round(a / 4 / np.pi * (kx + ky))\n",
    "    m2 = np.round(np.sqrt(3) * a / 4 / np.pi * (kx - ky))\n",
    "    # b1 = np.array([2*np.pi/a, 2*np.pi/np.sqrt(3)/a])\n",
    "    # b2 = np.array([2*np.pi/a, -2*np.pi/np.sqrt(3)/a])\n",
    "    # kvec = np.array([kx, ky])\n",
    "    qx = kx - (m1+m2) * 2*np.pi/a - 4*np.pi/3/a\n",
    "    qy = ky - (m1 - m2) * 2*np.pi/np.sqrt(3)/a\n",
    "    # Gvec = m1*b1 + m2*b2\n",
    "    # qvec = kvec - Gvec - np.array([4*np.pi/3/a,0])\n",
    "    return np.arctan(qy/qx)\n",
    "\n",
    "@numba.njit(fastmath=True)\n",
    "def intensity_modulation(kx, ky, a):\n",
    "    phi = get_phase(kx, ky, a)\n",
    "    return np.cos(ky*a/np.sqrt(3)/2 -phi/2)**2\n",
    "\n",
    "@numba.njit(fastmath=True)\n",
    "def intensity_modulation_(kx, ky, a):\n",
    "    phi = get_phase(kx, ky, a)\n",
    "    phi += np.pi\n",
    "    return np.cos(ky*a/np.sqrt(3)/2 -phi/2)**2\n",
    "\n",
    "\n",
    "@numba.njit(fastmath=True, parallel=True)\n",
    "def do_calc(nx:int, ny:int, nE:int, d:float, Emin:float, Emax:float, Sreal:float, Simag:float, a:float, t:float):\n",
    "    out = np.zeros((nx, ny, nE), dtype=np.float64)\n",
    "    x = np.linspace(-d, d, nx)\n",
    "    y = np.linspace(-d, d, ny)\n",
    "    z = np.linspace(Emin, Emax, nE)\n",
    "    for i in numba.prange(len(x)):\n",
    "        for j in range(len(y)):\n",
    "            for k in range(len(z)):\n",
    "                val = E(x[i], y[j], a, t)\n",
    "                out[i, j, k] += spectral_function(z[k], val, Sreal, Simag) * intensity_modulation(x[i], y[j], a)\n",
    "                out[i, j, k] += spectral_function(z[k], -val, Sreal, Simag) * intensity_modulation_(x[i], y[j], a)\n",
    "    return x, y, z, out\n",
    "\n",
    "\n",
    "def sample_data(nx=200, ny=200, nE=200, d=1.4, Emin=-1, Emax=1, Sreal=0.015, Simag=-0.1, a=6.97, t=0.76):\n",
    "    x, y, z, val = do_calc(nx, ny, nE, d, Emin, Emax, Sreal, Simag, a, t)\n",
    "    return xr.DataArray(val, coords=dict(kx=x, ky=y, eV=z))\n",
    "\n",
    "out = sample_data()\n"
   ]
  },
  {
   "cell_type": "code",
   "execution_count": 3,
   "metadata": {},
   "outputs": [
    {
     "data": {
      "text/plain": [
       "<erlab.plotting.interactive.imagetool_new.ImageTool(0x1660a4870) at 0x16d1cf180>"
      ]
     },
     "execution_count": 3,
     "metadata": {},
     "output_type": "execute_result"
    }
   ],
   "source": [
    "eplt.itool_(out)"
   ]
  },
  {
   "cell_type": "code",
   "execution_count": 33,
   "metadata": {},
   "outputs": [],
   "source": [
    "dims = (\"hv\",\"eV\", \"kx\", \"ky\")"
   ]
  },
  {
   "cell_type": "code",
   "execution_count": 35,
   "metadata": {},
   "outputs": [
    {
     "name": "stdout",
     "output_type": "stream",
     "text": [
      "True\n"
     ]
    }
   ],
   "source": [
    "if all(s in dims for s in (\"eV\", \"kx\", \"ky\")):\n",
    "    print(True)"
   ]
  },
  {
   "cell_type": "code",
   "execution_count": 40,
   "metadata": {},
   "outputs": [
    {
     "data": {
      "text/plain": [
       "('hv',)"
      ]
     },
     "execution_count": 40,
     "metadata": {},
     "output_type": "execute_result"
    },
    {
     "ename": "",
     "evalue": "",
     "output_type": "error",
     "traceback": [
      "\u001b[1;31mThe Kernel crashed while executing code in the the current cell or a previous cell. Please review the code in the cell(s) to identify a possible cause of the failure. Click <a href='https://aka.ms/vscodeJupyterKernelCrash'>here</a> for more info. View Jupyter <a href='command:jupyter.viewOutput'>log</a> for further details."
     ]
    }
   ],
   "source": [
    "tuple(d for d in dims if d not in (\"eV\", \"kx\", \"ky\"))"
   ]
  },
  {
   "cell_type": "code",
   "execution_count": 36,
   "metadata": {},
   "outputs": [
    {
     "data": {
      "text/plain": [
       "{'hv'}"
      ]
     },
     "execution_count": 36,
     "metadata": {},
     "output_type": "execute_result"
    }
   ],
   "source": [
    "set(dims) - set((\"eV\", \"kx\", \"ky\"))"
   ]
  },
  {
   "cell_type": "code",
   "execution_count": 31,
   "metadata": {},
   "outputs": [
    {
     "data": {
      "text/plain": [
       "(1.0, -0.0)"
      ]
     },
     "execution_count": 31,
     "metadata": {},
     "output_type": "execute_result"
    },
    {
     "data": {
      "image/png": "[encoded data removed]",
      "text/plain": [
       "<Figure size 640x480 with 1 Axes>"
      ]
     },
     "metadata": {},
     "output_type": "display_data"
    }
   ],
   "source": [
    "@numba.njit(fastmath=True)\n",
    "def get_phase(kx, ky, a=6.97):\n",
    "    m1 = np.round(a / 4 / np.pi * (kx + ky))\n",
    "    m2 = np.round(np.sqrt(3) * a / 4 / np.pi * (kx - ky))\n",
    "    # \n",
    "    # \n",
    "    # kvec = np.array([kx, ky])\n",
    "    qx = kx - (m1+m2) * 2*np.pi/a - 4*np.pi/3/a\n",
    "    qy = ky - (m1 - m2) * 2*np.pi/np.sqrt(3)/a\n",
    "    # Gvec = m1*b1 + m2*b2\n",
    "    # qvec = kvec - Gvec - np.array([4*np.pi/3/a,0])\n",
    "    return m1, m2\n",
    "\n",
    "b1 = np.array([2*np.pi/6.97, 2*np.pi/np.sqrt(3)/6.97])\n",
    "b2 = np.array([2*np.pi/6.97, -2*np.pi/np.sqrt(3)/6.97])\n",
    "\n",
    "point = 0.5*b1 + np.array([0.05, 0.4])\n",
    "\n",
    "import erlab.plotting.erplot as eplt\n",
    "import matplotlib.pyplot as plt\n",
    "\n",
    "eplt.plot_hex_bz(a=6.97, ls=\"-\", lw=0.4, ec='k', fc=\"None\", rotate=90)\n",
    "plt.plot(point[0], point[1], '.')\n",
    "plt.arrow(0, 0, *b1, lw=0.5)\n",
    "plt.arrow(0, 0, *b2, lw=0.5)\n",
    "plt.axis(\"equal\")\n",
    "\n",
    "get_phase(*point)\n"
   ]
  },
  {
   "cell_type": "code",
   "execution_count": 22,
   "metadata": {},
   "outputs": [
    {
     "data": {
      "text/plain": [
       "array([0.50073065, 0.31022946])"
      ]
     },
     "execution_count": 22,
     "metadata": {},
     "output_type": "execute_result"
    },
    {
     "data": {
      "image/png": "[encoded data removed]",
      "text/plain": [
       "<Figure size 640x480 with 1 Axes>"
      ]
     },
     "metadata": {},
     "output_type": "display_data"
    }
   ],
   "source": [
    "# plt.plot()\n"
   ]
  },
  {
   "cell_type": "code",
   "execution_count": 74,
   "metadata": {},
   "outputs": [
    {
     "data": {
      "text/plain": [
       "array([[ 0.55465498,  0.55465498],\n",
       "       [ 0.9606906 , -0.9606906 ]])"
      ]
     },
     "execution_count": 74,
     "metadata": {},
     "output_type": "execute_result"
    }
   ],
   "source": [
    "def transmat(a=6.97):\n",
    "    return np.array(\n",
    "        [\n",
    "            [2 * np.pi / a, 2 * np.pi / np.sqrt(3) / a],\n",
    "            [2 * np.pi / a, -2 * np.pi / np.sqrt(3) / a],\n",
    "        ]\n",
    "    )\n",
    "np.linalg.inv(transmat())"
   ]
  },
  {
   "cell_type": "code",
   "execution_count": null,
   "metadata": {},
   "outputs": [],
   "source": [
    "    # b1 = np.array([2*np.pi/a, 2*np.pi/np.sqrt(3)/a])\n",
    "    # b2 = np.array([2*np.pi/a, -2*np.pi/np.sqrt(3)/a])"
   ]
  },
  {
   "cell_type": "code",
   "execution_count": 75,
   "metadata": {},
   "outputs": [
    {
     "data": {
      "text/plain": [
       "array([[ 0.55465498,  0.55465498],\n",
       "       [ 0.9606906 , -0.9606906 ]])"
      ]
     },
     "execution_count": 75,
     "metadata": {},
     "output_type": "execute_result"
    }
   ],
   "source": [
    "6.97/4/np.pi * np.array([[1, 1],[np.sqrt(3), -np.sqrt(3)]])"
   ]
  },
  {
   "cell_type": "code",
   "execution_count": 62,
   "metadata": {},
   "outputs": [
    {
     "data": {
      "text/plain": [
       "(-1.4893675575468837-2.5807744702134294j)"
      ]
     },
     "execution_count": 62,
     "metadata": {},
     "output_type": "execute_result"
    }
   ],
   "source": [
    "@numba.njit\n",
    "def f(kx, ky, a):\n",
    "    return np.exp(1j * ky * a / np.sqrt(3)) + 2 * np.exp(\n",
    "        -1j * ky * a / 2 / np.sqrt(3)\n",
    "    ) * np.cos(kx * a / 2)\n",
    "\n",
    "\n",
    "@numba.njit\n",
    "def ham(kx, ky, a=6.97, g0=3.0, s0=0.129, delta=0):\n",
    "    fk = f(kx, ky, a)\n",
    "    h1 = np.array([[delta / 2, -g0 * fk], [-g0 * np.conj(fk), -delta / 2]])\n",
    "    s1 = np.array([[1, s0 * fk], [s0 * np.conj(fk), 1]])\n"
   ]
  },
  {
   "cell_type": "code",
   "execution_count": 82,
   "metadata": {},
   "outputs": [
    {
     "data": {
      "text/plain": [
       "-0.7620877377006338"
      ]
     },
     "execution_count": 82,
     "metadata": {},
     "output_type": "execute_result"
    }
   ],
   "source": [
    "\n",
    "get_phase(1, 1, 6.97)"
   ]
  },
  {
   "cell_type": "code",
   "execution_count": 44,
   "metadata": {},
   "outputs": [
    {
     "name": "stdout",
     "output_type": "stream",
     "text": [
      "7.26 ms ± 151 µs per loop (mean ± std. dev. of 7 runs, 100 loops each)\n"
     ]
    }
   ],
   "source": [
    "%timeit sample_data()"
   ]
  },
  {
   "cell_type": "code",
   "execution_count": 1,
   "metadata": {},
   "outputs": [
    {
     "ename": "",
     "evalue": "",
     "output_type": "error",
     "traceback": [
      "\u001b[1;31mThe Kernel crashed while executing code in the the current cell or a previous cell. Please review the code in the cell(s) to identify a possible cause of the failure. Click <a href='https://aka.ms/vscodeJupyterKernelCrash'>here</a> for more info. View Jupyter <a href='command:jupyter.viewOutput'>log</a> for further details."
     ]
    },
    {
     "ename": "",
     "evalue": "",
     "output_type": "error",
     "traceback": [
      "\u001b[1;31mCanceled future for execute_request message before replies were done"
     ]
    }
   ],
   "source": [
    "from PySide6 import QtWidgets\n",
    "\n",
    "wid = QtWidgets.QDoubleSpinBox()"
   ]
  },
  {
   "cell_type": "code",
   "execution_count": 93,
   "metadata": {},
   "outputs": [
    {
     "data": {
      "text/plain": [
       "<erlab.plotting.interactive.imagetool_new.ImageTool(0x32aa0ca30) at 0x32a6bd800>"
      ]
     },
     "execution_count": 93,
     "metadata": {},
     "output_type": "execute_result"
    }
   ],
   "source": [
    "eplt.itool_(out)"
   ]
  },
  {
   "cell_type": "code",
   "execution_count": 3,
   "metadata": {},
   "outputs": [
    {
     "name": "stdout",
     "output_type": "stream",
     "text": [
      "['left', 'bottom']\n",
      "[298, 298]\n",
      "[318, 278]\n",
      "[126, 168]\n",
      "[151, 143]\n",
      "[318, 278]\n",
      "[298]\n",
      "[157, 117]\n"
     ]
    }
   ],
   "source": [
    "import numpy as np\n",
    "import xarray as xr\n",
    "import pyqtgraph as pg\n",
    "from PySide6 import QtWidgets, QtCore, QtGui\n",
    "import sys\n",
    "\n",
    "pg.mkQApp()\n",
    "\n",
    "wdgts = [\n",
    "    pg.PlotWidget(),\n",
    "    pg.PlotWidget(),\n",
    "    pg.PlotWidget(),\n",
    "    pg.PlotWidget(),\n",
    "    pg.PlotWidget(),\n",
    "    pg.PlotWidget(),\n",
    "    pg.PlotWidget(),\n",
    "]\n",
    "font = QtGui.QFont()\n",
    "font.setPointSizeF(11.0)\n",
    "for w in wdgts:\n",
    "    w.setMinimumSize(0,0)\n",
    "    w.plotItem.setMinimumSize(0,0)\n",
    "    for axis in [\"left\", \"bottom\", \"right\", \"top\"]:\n",
    "        w.plotItem.getAxis(axis).setTickFont(font)\n",
    "\n",
    "class ItoolSplitter(QtWidgets.QSplitter):\n",
    "    def __init__(self, *args, **kwargs):\n",
    "        super().__init__(*args, **kwargs)\n",
    "\n",
    "    def setStretchFactors(self, stretch):\n",
    "        for i in range(self.count()):\n",
    "            self.setStretchFactor(i, stretch[i])\n",
    "\n",
    "\n",
    "\n",
    "def setstretch(widget, horiz, vert):\n",
    "    policy = widget.sizePolicy()\n",
    "    policy.setHorizontalStretch(horiz)\n",
    "    policy.setVerticalStretch(vert)\n",
    "    widget.resize(horiz * 10, vert * 10)\n",
    "    widget.setSizePolicy(policy)\n",
    "\n",
    "\n",
    "# wdgts[-1].setVisible(False)\n",
    "# stretch = [\n",
    "#     (6, 6),\n",
    "#     (6, 2),\n",
    "#     (2, 6),\n",
    "#     (5, 5),\n",
    "#     (6, 3),\n",
    "#     (3, 6),\n",
    "#     (0, 0),\n",
    "# ]\n",
    "\n",
    "# for w, s in zip(wdgts, stretch):\n",
    "#     setstretch(w, *s)\n",
    "#     pass\n",
    "\n",
    "\n",
    "def syncsplit(c0, c1, reverse=False):\n",
    "    c0.blockSignals(True)\n",
    "    c1.blockSignals(True)\n",
    "\n",
    "    sizes = c0.sizes()\n",
    "    total = sum(sizes)\n",
    "    \n",
    "    if reverse:\n",
    "        sizes = list(reversed(sizes))\n",
    "        sizes[0] = c1.sizes()[-1]\n",
    "    else:\n",
    "        sizes[0] = c1.sizes()[0]\n",
    "    if all([x == 0 for x in sizes[1:]]) and sizes[0] != total:\n",
    "        sizes[1:] = [1] * len(sizes[1:])\n",
    "    try:\n",
    "        factor = (total - sizes[0]) / sum(sizes[1:])\n",
    "    except ZeroDivisionError:\n",
    "        factor = 0\n",
    "    for k in range(1, len(sizes)):\n",
    "        sizes[k] *= factor\n",
    "    if reverse:\n",
    "        sizes = list(reversed(sizes))\n",
    "    c0.setSizes(sizes)\n",
    "\n",
    "    c0.blockSignals(False)\n",
    "    c1.blockSignals(False)\n",
    "\n",
    "def set_splitter_sync(c0, c1, reverse=False):\n",
    "    \n",
    "    c0.splitterMoved.connect(lambda: syncsplit(c1, c0, reverse))\n",
    "    c1.splitterMoved.connect(lambda: syncsplit(c0, c1, reverse))\n",
    "\n",
    "\n",
    "\n",
    "main = QtWidgets.QWidget()\n",
    "# lo = QtWidgets.QStackedLayout(main)\n",
    "main.setLayout(QtWidgets.QStackedLayout())\n",
    "lo = main.layout()\n",
    "\n",
    "main_splitter = ItoolSplitter(QtCore.Qt.Vertical)\n",
    "\n",
    "top_splitter = ItoolSplitter(QtCore.Qt.Horizontal)\n",
    "top_subgroup_1 = ItoolSplitter(QtCore.Qt.Vertical)\n",
    "top_subgroup_2 = ItoolSplitter(QtCore.Qt.Vertical)\n",
    "\n",
    "bottom_splitter = ItoolSplitter(QtCore.Qt.Horizontal)\n",
    "bottom_subgroup_1 = ItoolSplitter(QtCore.Qt.Vertical)\n",
    "bottom_subgroup_2 = ItoolSplitter(QtCore.Qt.Horizontal)\n",
    "# bottom_subgroup = ItoolSplitter(QtCore.Qt.Horizontal)\n",
    "\n",
    "lo.addWidget(main_splitter)\n",
    "lo.setContentsMargins(0,0,0,0)\n",
    "main_splitter.addWidget(top_splitter)\n",
    "main_splitter.addWidget(bottom_splitter)\n",
    "\n",
    "top_splitter.addWidget(top_subgroup_1)\n",
    "top_splitter.addWidget(top_subgroup_2)\n",
    "\n",
    "\n",
    "bottom_splitter.addWidget(bottom_subgroup_1)\n",
    "bottom_splitter.addWidget(bottom_subgroup_2)\n",
    "\n",
    "for i in [1, 4]:\n",
    "    top_subgroup_1.addWidget(wdgts[i])\n",
    "for i in [6, 3]:\n",
    "    top_subgroup_2.addWidget(wdgts[i])\n",
    "bottom_subgroup_1.addWidget(wdgts[0])\n",
    "for i in [5, 2]:\n",
    "    bottom_subgroup_2.addWidget(wdgts[i])\n",
    "\n",
    "set_splitter_sync(top_splitter, bottom_splitter, False)\n",
    "\n",
    "szs = [\n",
    "[298, 298],\n",
    "[318, 278],\n",
    "[126, 168],\n",
    "[151, 143],\n",
    "[318, 278],\n",
    "[298],\n",
    "[157, 117],\n",
    "]\n",
    "\n",
    "\n",
    "for i, c in enumerate([main_splitter, top_splitter, top_subgroup_1, top_subgroup_2, bottom_splitter, bottom_subgroup_1, bottom_subgroup_2]):\n",
    "    c.setSizes(szs[i])\n",
    "\n",
    "\n",
    "if __name__ == \"__main__\":\n",
    "    qapp = QtWidgets.QApplication.instance()\n",
    "    if not qapp:\n",
    "        qapp = QtWidgets.QApplication(sys.argv)\n",
    "    qapp.setStyle(\"Fusion\")\n",
    "    main.resize(600,600)\n",
    "    main.show()\n",
    "    main.raise_()\n",
    "    qapp.exec()\n",
    "\n",
    "\n",
    "\n",
    "vis_axes = [a for a in  ('left','top','right','bottom') if w.plotItem.getAxis(a).isVisible()]\n",
    "print(vis_axes)\n",
    "\n",
    "for i, c in enumerate([main_splitter, top_splitter, top_subgroup_1, top_subgroup_2, bottom_splitter, bottom_subgroup_1, bottom_subgroup_2]):\n",
    "    print(c.sizes())\n",
    "\n",
    "    "
   ]
  },
  {
   "cell_type": "code",
   "execution_count": null,
   "metadata": {},
   "outputs": [],
   "source": [
    "[325, 325]\n",
    "[535, 469]\n",
    "[138, 183]\n",
    "[162, 159]\n",
    "[535, 469]\n",
    "[325]\n",
    "[266, 199]"
   ]
  },
  {
   "cell_type": "code",
   "execution_count": 3,
   "metadata": {},
   "outputs": [
    {
     "ename": "",
     "evalue": "",
     "output_type": "error",
     "traceback": [
      "\u001b[1;31mThe Kernel crashed while executing code in the the current cell or a previous cell. Please review the code in the cell(s) to identify a possible cause of the failure. Click <a href='https://aka.ms/vscodeJupyterKernelCrash'>here</a> for more info. View Jupyter <a href='command:jupyter.viewOutput'>log</a> for further details."
     ]
    }
   ],
   "source": [
    "import numpy as np\n",
    "import xarray as xr\n",
    "import pyqtgraph as pg\n",
    "from PySide6 import QtWidgets, QtCore, QtGui\n",
    "import sys\n",
    "\n",
    "from erlab.plotting.interactive.colors import (\n",
    "    pg_colormap_names,\n",
    "    pg_colormap_powernorm,\n",
    "    pg_colormap_to_QPixmap,\n",
    ")\n",
    "\n",
    "class itimage(pg.ImageItem):\n",
    "    def __init__(self, \n",
    "        *args,\n",
    "        **kargs,\n",
    "    ):\n",
    "        super().__init__(*args, **kargs)\n",
    "\n",
    "    def set_colormap(\n",
    "        self,\n",
    "        cmap,\n",
    "        gamma,\n",
    "        reverse=False,\n",
    "        highContrast=False,\n",
    "        zeroCentered=False,\n",
    "        update=True,\n",
    "    ):\n",
    "        cmap = pg_colormap_powernorm(\n",
    "            cmap,\n",
    "            gamma,\n",
    "            reverse,\n",
    "            highContrast=highContrast,\n",
    "            zeroCentered=zeroCentered,\n",
    "        )\n",
    "        self.set_pg_colormap(cmap, update=update)\n",
    "\n",
    "    def set_pg_colormap(self, cmap: pg.ColorMap, update=True):\n",
    "        self._colorMap = cmap\n",
    "        self.setLookupTable(cmap.getStops()[1], update=update)\n",
    "\n",
    "\n",
    "class glw(pg.GraphicsLayoutWidget):\n",
    "    def __init__(self, plotitem, parent=None, **item_kw):\n",
    "        super().__init__(parent=parent)\n",
    "        self.ci.layout.setSpacing(0)\n",
    "        self.ci.layout.setContentsMargins(0, 0, 0, 0)\n",
    "\n",
    "        self.plotItem = plotitem\n",
    "        self.addItem(self.plotItem)\n",
    "\n",
    "data = xr.open_dataarray(\n",
    "    \"/Users/khan/Documents/ERLab/CsV3Sb5/2021_Dec_ALS_CV3Sb5/Data/cvs_kxy_small.nc\"\n",
    ")\n",
    "\n",
    "\n",
    "\n",
    "\n",
    "class MyWidget(QtWidgets.QWidget):\n",
    "    def __init__(self):\n",
    "        super().__init__()\n",
    "        self.pi = pg.PlotItem()\n",
    "        self.gl = pg.PlotWidget(plotItem=self.pi)\n",
    "        # self.gl = glw(self.pi)\n",
    "        self.ii = itimage(image=data.sel(eV=0, method=\"nearest\").values)\n",
    "        self.pi.addItem(self.ii)\n",
    "        \n",
    "        \n",
    "        self.layout = QtWidgets.QVBoxLayout(self)\n",
    "        self.layout.addWidget(self.gl)\n",
    "        \n",
    "        # self.pi.addColorBar(self.ii)\n",
    "        cbar = pg.HistogramLUTItem(image=self.ii)\n",
    "        self.pi.layout.addItem( cbar, 2, 5 )\n",
    "        self.pi.layout.setColumnFixedWidth(4, 5)\n",
    "        self.ii.set_colormap(\"magma\", 0.5)\n",
    "        \n",
    "        \n",
    "\n",
    "    @QtCore.Slot()\n",
    "    def magic(self):\n",
    "        self.text.setText(\"hey\")\n",
    "    \n",
    "if __name__ == \"__main__\":\n",
    "    qapp = QtWidgets.QApplication.instance()\n",
    "    if not qapp:\n",
    "        qapp = QtWidgets.QApplication(sys.argv)\n",
    "    qapp.setStyle(\"Fusion\")\n",
    "    # demo.set_data(data)\n",
    "    demo = MyWidget()\n",
    "    demo.show()\n",
    "    demo.raise_()\n",
    "    qapp.exec()"
   ]
  },
  {
   "cell_type": "code",
   "execution_count": 1,
   "metadata": {},
   "outputs": [
    {
     "ename": "NameError",
     "evalue": "name 'QtWidgets' is not defined",
     "output_type": "error",
     "traceback": [
      "\u001b[0;31m---------------------------------------------------------------------------\u001b[0m",
      "\u001b[0;31mNameError\u001b[0m                                 Traceback (most recent call last)",
      "Cell \u001b[0;32mIn [1], line 1\u001b[0m\n\u001b[0;32m----> 1\u001b[0m w0 \u001b[39m=\u001b[39m QtWidgets\u001b[39m.\u001b[39mQTextEdit(text\u001b[39m=\u001b[39m\u001b[39m\"\u001b[39m\u001b[39m0\u001b[39m\u001b[39m\"\u001b[39m)\n\u001b[1;32m      2\u001b[0m w1 \u001b[39m=\u001b[39m QtWidgets\u001b[39m.\u001b[39mQTextEdit(text\u001b[39m=\u001b[39m\u001b[39m\"\u001b[39m\u001b[39m1\u001b[39m\u001b[39m\"\u001b[39m)\n\u001b[1;32m      3\u001b[0m w2 \u001b[39m=\u001b[39m QtWidgets\u001b[39m.\u001b[39mQTextEdit(text\u001b[39m=\u001b[39m\u001b[39m\"\u001b[39m\u001b[39m2\u001b[39m\u001b[39m\"\u001b[39m)\n",
      "\u001b[0;31mNameError\u001b[0m: name 'QtWidgets' is not defined"
     ]
    }
   ],
   "source": []
  },
  {
   "cell_type": "code",
   "execution_count": 16,
   "metadata": {},
   "outputs": [],
   "source": [
    "import numpy as np\n",
    "import numba\n",
    "\n",
    "\n",
    "@numba.njit(fastmath=True, cache=True)\n",
    "def _index_of_value(\n",
    "    axis: int,\n",
    "    val: float,\n",
    "    lims: tuple[tuple[float]],\n",
    "    incs: tuple[float],\n",
    "    shape: tuple[int],\n",
    ") -> int:\n",
    "    ind = min(\n",
    "        round((val - lims[axis][0]) / incs[axis]),\n",
    "        shape[axis] - 1,\n",
    "    )\n",
    "    if ind < 0:\n",
    "        return 0\n",
    "    return ind\n",
    "\n",
    "\n",
    "@numba.njit(fastmath=True, cache=True)\n",
    "def _index_of_value_nonuniform(arr, val) -> np.intp:\n",
    "    return np.searchsorted((arr[:-1] + arr[1:]) / 2, val)\n"
   ]
  },
  {
   "cell_type": "code",
   "execution_count": 15,
   "metadata": {},
   "outputs": [
    {
     "name": "stdout",
     "output_type": "stream",
     "text": [
      "2.82 µs ± 27.3 ns per loop (mean ± std. dev. of 7 runs, 100,000 loops each)\n",
      "4.01 µs ± 36.1 ns per loop (mean ± std. dev. of 7 runs, 100,000 loops each)\n"
     ]
    }
   ],
   "source": [
    "import xarray as xr\n",
    "\n",
    "data = xr.open_dataarray(\n",
    "        \"/Users/khan/Documents/ERLab/CsV3Sb5/2021_Dec_ALS_CV3Sb5/Data/cvs_kxy_small.nc\"\n",
    "    )\n",
    "\n",
    "\n",
    "crd = data.eV.values\n",
    "\n",
    "\n",
    "_index_of_value()\n",
    "# %timeit is_regular(crd)\n",
    "# %timeit is_regular_(crd)\n",
    "# %timeit is_regular__(crd)"
   ]
  },
  {
   "cell_type": "code",
   "execution_count": 12,
   "metadata": {},
   "outputs": [
    {
     "data": {
      "text/plain": [
       "True"
      ]
     },
     "execution_count": 12,
     "metadata": {},
     "output_type": "execute_result"
    }
   ],
   "source": [
    "is_regular__(crd)"
   ]
  },
  {
   "cell_type": "code",
   "execution_count": 7,
   "metadata": {},
   "outputs": [
    {
     "data": {
      "text/plain": [
       "True"
      ]
     },
     "execution_count": 7,
     "metadata": {},
     "output_type": "execute_result"
    }
   ],
   "source": []
  },
  {
   "cell_type": "code",
   "execution_count": null,
   "metadata": {},
   "outputs": [],
   "source": []
  },
  {
   "cell_type": "code",
   "execution_count": 1,
   "metadata": {},
   "outputs": [],
   "source": [
    "import xarray as xr\n",
    "\n",
    "data = xr.open_dataarray(\n",
    "        \"/Users/khan/Documents/ERLab/CsV3Sb5/2021_Dec_ALS_CV3Sb5/Data/cvs_kxy_small.nc\"\n",
    "    )\n",
    "\n",
    "from slicer import SlicerArray\n",
    "\n",
    "sa = SlicerArray(data)\n",
    "\n",
    "# sa.add_cursor()\n",
    "# sa.set_indices(1, (796, 17, 82))\n",
    "\n",
    "# # print([i.shape for i in sa.coords])\n",
    "# # print(sa._obj.dims)\n",
    "# # print(sa._values[1])\n",
    "# # print(sa._indices[1])\n",
    "\n",
    "# sa.swap_axes(0,1)\n",
    "# # print(sa._values[1])\n",
    "# # print(sa._indices[1])\n",
    "\n",
    "# print([i.shape for i in sa.coords])\n",
    "# print(sa._obj.dims)\n",
    "\n",
    "# sa.span_bounds(1, 0)\n",
    "# sa.span_bounds(1, 1)\n",
    "# sa.span_bounds(1, 2)"
   ]
  },
  {
   "cell_type": "markdown",
   "metadata": {},
   "source": []
  },
  {
   "cell_type": "code",
   "execution_count": 27,
   "metadata": {},
   "outputs": [
    {
     "name": "stdout",
     "output_type": "stream",
     "text": [
      "yeah\n"
     ]
    }
   ],
   "source": [
    "if \"1\":\n",
    "    print(\"yeah\")"
   ]
  },
  {
   "cell_type": "code",
   "execution_count": 5,
   "metadata": {},
   "outputs": [
    {
     "data": {
      "text/plain": [
       "tuple"
      ]
     },
     "execution_count": 5,
     "metadata": {},
     "output_type": "execute_result"
    }
   ],
   "source": [
    "type(data.shape)"
   ]
  },
  {
   "cell_type": "code",
   "execution_count": 27,
   "metadata": {},
   "outputs": [
    {
     "data": {
      "text/plain": [
       "0.0"
      ]
     },
     "execution_count": 27,
     "metadata": {},
     "output_type": "execute_result"
    }
   ],
   "source": [
    "sa.nanmin()"
   ]
  },
  {
   "cell_type": "code",
   "execution_count": 31,
   "metadata": {},
   "outputs": [
    {
     "name": "stderr",
     "output_type": "stream",
     "text": [
      "/var/folders/pm/phmf5d9d69s6znjj4sxp61yh0000gn/T/ipykernel_33078/2364280936.py:1: RuntimeWarning: divide by zero encountered in log10\n",
      "  round(np.log10(abs(sa.nanmin())) + 3)\n"
     ]
    },
    {
     "ename": "OverflowError",
     "evalue": "cannot convert float infinity to integer",
     "output_type": "error",
     "traceback": [
      "\u001b[0;31m---------------------------------------------------------------------------\u001b[0m",
      "\u001b[0;31mOverflowError\u001b[0m                             Traceback (most recent call last)",
      "Cell \u001b[0;32mIn [31], line 1\u001b[0m\n\u001b[0;32m----> 1\u001b[0m \u001b[39mround\u001b[39m(np\u001b[39m.\u001b[39mlog10(\u001b[39mabs\u001b[39m(sa\u001b[39m.\u001b[39mnanmin())) \u001b[39m+\u001b[39m \u001b[39m3\u001b[39m)\n",
      "\u001b[0;31mOverflowError\u001b[0m: cannot convert float infinity to integer"
     ]
    }
   ],
   "source": [
    "round(np.log10(abs(sa.nanmin())) + 3)"
   ]
  },
  {
   "cell_type": "code",
   "execution_count": 6,
   "metadata": {},
   "outputs": [
    {
     "data": {
      "text/plain": [
       "-6"
      ]
     },
     "execution_count": 6,
     "metadata": {},
     "output_type": "execute_result"
    }
   ],
   "source": [
    "import numpy as np\n",
    "mx = 0.000000001\n",
    "\n",
    "mn = -1.234112222222e+1\n",
    "\n",
    "# round(np.log10(max(abs(mn), abs(mx))) + 3)\n",
    "round(np.log10(abs(mx)) + 3)"
   ]
  },
  {
   "cell_type": "code",
   "execution_count": 18,
   "metadata": {},
   "outputs": [
    {
     "data": {
      "text/plain": [
       "7"
      ]
     },
     "execution_count": 18,
     "metadata": {},
     "output_type": "execute_result"
    }
   ],
   "source": [
    "round(abs(np.log10(abs(4.96924931e-05))) + 3)"
   ]
  },
  {
   "cell_type": "code",
   "execution_count": 32,
   "metadata": {},
   "outputs": [
    {
     "name": "stdout",
     "output_type": "stream",
     "text": [
      "4.9692493e+0\n",
      "4.9692493e-05\n",
      "1.4237137e+04\n"
     ]
    }
   ],
   "source": [
    "np.format_float_scientific(14237.137031508191, precision=7)\n",
    "print(np.format_float_scientific(4.96924931, precision=7, unique=True, exp_digits=1))\n",
    "print(np.format_float_scientific(4.96924931e-05, precision=7, unique=True))\n",
    "print(np.format_float_scientific(14237.13703150819323, precision=7, unique=True))"
   ]
  },
  {
   "cell_type": "code",
   "execution_count": 11,
   "metadata": {},
   "outputs": [
    {
     "data": {
      "text/plain": [
       "'14237.1370315'"
      ]
     },
     "execution_count": 11,
     "metadata": {},
     "output_type": "execute_result"
    }
   ],
   "source": [
    "np.format_float_positional(14237.137031508191, precision=7)"
   ]
  },
  {
   "cell_type": "code",
   "execution_count": 4,
   "metadata": {},
   "outputs": [
    {
     "data": {
      "text/plain": [
       "14237.137031508191"
      ]
     },
     "execution_count": 4,
     "metadata": {},
     "output_type": "execute_result"
    }
   ],
   "source": [
    "sa.absnanmax()"
   ]
  },
  {
   "cell_type": "code",
   "execution_count": 6,
   "metadata": {},
   "outputs": [
    {
     "data": {
      "text/plain": [
       "tuple[int]"
      ]
     },
     "execution_count": 6,
     "metadata": {},
     "output_type": "execute_result"
    }
   ],
   "source": [
    "tuple[int]"
   ]
  },
  {
   "cell_type": "code",
   "execution_count": 18,
   "metadata": {},
   "outputs": [
    {
     "name": "stdout",
     "output_type": "stream",
     "text": [
      "[[519, 41, 83]]\n",
      "[[-0.5008161067962646, -0.5199999999999994, -0.10999999999999854]]\n",
      "[[519, 41, 83], [519, 41, 83]]\n",
      "[[-0.5008161067962646, -0.5199999999999994, -0.10999999999999854], [-0.5008161067962646, -0.5199999999999994, -0.10999999999999854]]\n"
     ]
    }
   ],
   "source": [
    "\n",
    "sa = SlicerArray(data)\n",
    "print(sa._indices)\n",
    "print(sa._values)\n",
    "sa.add_cursor()\n",
    "print(sa._indices)\n",
    "print(sa._values)\n",
    "# sa.set_indices(1, (796, 17, 82))\n",
    "# print(sa._indices)\n",
    "# print(sa._values)"
   ]
  },
  {
   "cell_type": "code",
   "execution_count": 16,
   "metadata": {},
   "outputs": [
    {
     "data": {
      "text/plain": [
       "[[519, 41, 83], [796, 17, 82]]"
      ]
     },
     "execution_count": 16,
     "metadata": {},
     "output_type": "execute_result"
    }
   ],
   "source": [
    "lst = [[519, 41, 83], [519, 41, 83]]\n",
    "lst[1][0] = 796\n",
    "lst[1][1] = 17\n",
    "lst[1][2] = 82\n",
    "lst"
   ]
  },
  {
   "cell_type": "code",
   "execution_count": null,
   "metadata": {},
   "outputs": [],
   "source": []
  },
  {
   "cell_type": "code",
   "execution_count": 19,
   "metadata": {},
   "outputs": [
    {
     "data": {
      "text/plain": [
       "[[796, 17, 82], [796, 17, 82]]"
      ]
     },
     "execution_count": 19,
     "metadata": {},
     "output_type": "execute_result"
    }
   ],
   "source": [
    "# sa._indices = [[519, 41, 83], [519, 41, 83]]\n",
    "sa._indices[1][0] = 796\n",
    "sa._indices[1][1] = 17\n",
    "sa._indices[1][2] = 82\n",
    "sa._indices"
   ]
  },
  {
   "cell_type": "code",
   "execution_count": null,
   "metadata": {},
   "outputs": [],
   "source": []
  },
  {
   "cell_type": "code",
   "execution_count": 14,
   "metadata": {},
   "outputs": [
    {
     "name": "stdout",
     "output_type": "stream",
     "text": [
      "[-0.9999999999999998, -0.04819762706756592, -0.12999999999999856]\n",
      "[17, 796, 82]\n",
      "[-0.04819762706756592, -0.9999999999999998, -0.12999999999999856]\n",
      "[796, 17, 82]\n"
     ]
    }
   ],
   "source": [
    "\n",
    "i = 1\n",
    "ax1 = 0\n",
    "ax2 = 1\n",
    "print(sa._values[i])\n",
    "print(sa._indices[i])\n",
    "\n",
    "\n",
    "sa._values[i][ax1], sa._values[i][ax2] = (\n",
    "    sa._values[i][ax2],\n",
    "    sa._values[i][ax1],\n",
    ")\n",
    "sa._indices[i][ax1], sa._indices[i][ax2] = (\n",
    "    sa._indices[i][ax2],\n",
    "    sa._indices[i][ax1],\n",
    ")\n",
    "\n",
    "print(sa._values[i])\n",
    "print(sa._indices[i])"
   ]
  },
  {
   "cell_type": "code",
   "execution_count": 2,
   "metadata": {},
   "outputs": [
    {
     "data": {
      "text/plain": [
       "[[796, 17, 82], [796, 17, 82]]"
      ]
     },
     "execution_count": 2,
     "metadata": {},
     "output_type": "execute_result"
    }
   ],
   "source": [
    "sa._indices"
   ]
  },
  {
   "cell_type": "code",
   "execution_count": 3,
   "metadata": {},
   "outputs": [
    {
     "data": {
      "text/plain": [
       "[[-0.5199999999999994, -0.5008161067962646, -0.10999999999999854],\n",
       " [-0.9999999999999998, -0.04819762706756592, -0.12999999999999856]]"
      ]
     },
     "execution_count": 3,
     "metadata": {},
     "output_type": "execute_result"
    }
   ],
   "source": [
    "sa._values"
   ]
  },
  {
   "cell_type": "code",
   "execution_count": 11,
   "metadata": {},
   "outputs": [
    {
     "name": "stderr",
     "output_type": "stream",
     "text": [
      "<frozen importlib._bootstrap>:241: RuntimeWarning: numpy.ndarray size changed, may indicate binary incompatibility. Expected 16 from C header, got 88 from PyObject\n"
     ]
    },
    {
     "name": "stdout",
     "output_type": "stream",
     "text": [
      "Activating auto-logging. Current session state plus future input saved.\n",
      "Filename       : logs/70502d64-620f-4e97-bb77-2f2666bdb83e_2022-09-13_11-34-56.log\n",
      "Mode           : backup\n",
      "Output logging : False\n",
      "Raw input log  : False\n",
      "Timestamping   : False\n",
      "State          : active\n"
     ]
    },
    {
     "name": "stderr",
     "output_type": "stream",
     "text": [
      "Fontconfig warning: ignoring UTF-8: not a valid region tag\n"
     ]
    }
   ],
   "source": [
    "import xarray as xr\n",
    "import numpy as np\n",
    "import numbagg\n",
    "from PySide6 import QtWidgets, QtCore, QtGui\n",
    "import pyqtgraph as pg\n",
    "import colorsys\n",
    "import darkdetect\n",
    "from matplotlib import colors as mcolors\n",
    "from pyqtgraph.dockarea.Dock import Dock, DockLabel\n",
    "from pyqtgraph.dockarea.DockArea import DockArea\n",
    "import sys\n",
    "import itertools\n",
    "\n",
    "from erlab.plotting.colors import (\n",
    "    pg_colormap_names,\n",
    "    pg_colormap_powernorm,\n",
    "    pg_colormap_to_QPixmap,\n",
    ")\n"
   ]
  },
  {
   "cell_type": "code",
   "execution_count": 2,
   "metadata": {},
   "outputs": [
    {
     "ename": "ModuleNotFoundError",
     "evalue": "No module named 'PySide6.sip'",
     "output_type": "error",
     "traceback": [
      "\u001b[0;31m---------------------------------------------------------------------------\u001b[0m",
      "\u001b[0;31mModuleNotFoundError\u001b[0m                       Traceback (most recent call last)",
      "Cell \u001b[0;32mIn [2], line 2\u001b[0m\n\u001b[1;32m      1\u001b[0m \u001b[38;5;28;01mimport\u001b[39;00m \u001b[38;5;21;01mPySide6\u001b[39;00m\n\u001b[0;32m----> 2\u001b[0m \u001b[38;5;28;01mimport\u001b[39;00m \u001b[38;5;21;01mPySide6\u001b[39;00m\u001b[38;5;21;01m.\u001b[39;00m\u001b[38;5;21;01msip\u001b[39;00m\n",
      "\u001b[0;31mModuleNotFoundError\u001b[0m: No module named 'PySide6.sip'"
     ]
    }
   ],
   "source": [
    "import PySide6\n",
    "import PySide6.sip"
   ]
  },
  {
   "cell_type": "code",
   "execution_count": 7,
   "metadata": {},
   "outputs": [
    {
     "data": {
      "text/plain": [
       "array([  123.1235, 12346.1235])"
      ]
     },
     "execution_count": 7,
     "metadata": {},
     "output_type": "execute_result"
    }
   ],
   "source": [
    "np.around([123.1235, 12346.1235], 6)"
   ]
  },
  {
   "cell_type": "code",
   "execution_count": 91,
   "metadata": {},
   "outputs": [
    {
     "data": {
      "text/html": [
       "<div><svg style=\"position: absolute; width: 0; height: 0; overflow: hidden\">\n",
       "<defs>\n",
       "<symbol id=\"icon-database\" viewBox=\"0 0 32 32\">\n",
       "<path d=\"M16 0c-8.837 0-16 2.239-16 5v4c0 2.761 7.163 5 16 5s16-2.239 16-5v-4c0-2.761-7.163-5-16-5z\"></path>\n",
       "<path d=\"M16 17c-8.837 0-16-2.239-16-5v6c0 2.761 7.163 5 16 5s16-2.239 16-5v-6c0 2.761-7.163 5-16 5z\"></path>\n",
       "<path d=\"M16 26c-8.837 0-16-2.239-16-5v6c0 2.761 7.163 5 16 5s16-2.239 16-5v-6c0 2.761-7.163 5-16 5z\"></path>\n",
       "</symbol>\n",
       "<symbol id=\"icon-file-text2\" viewBox=\"0 0 32 32\">\n",
       "<path d=\"M28.681 7.159c-0.694-0.947-1.662-2.053-2.724-3.116s-2.169-2.030-3.116-2.724c-1.612-1.182-2.393-1.319-2.841-1.319h-15.5c-1.378 0-2.5 1.121-2.5 2.5v27c0 1.378 1.122 2.5 2.5 2.5h23c1.378 0 2.5-1.122 2.5-2.5v-19.5c0-0.448-0.137-1.23-1.319-2.841zM24.543 5.457c0.959 0.959 1.712 1.825 2.268 2.543h-4.811v-4.811c0.718 0.556 1.584 1.309 2.543 2.268zM28 29.5c0 0.271-0.229 0.5-0.5 0.5h-23c-0.271 0-0.5-0.229-0.5-0.5v-27c0-0.271 0.229-0.5 0.5-0.5 0 0 15.499-0 15.5 0v7c0 0.552 0.448 1 1 1h7v19.5z\"></path>\n",
       "<path d=\"M23 26h-14c-0.552 0-1-0.448-1-1s0.448-1 1-1h14c0.552 0 1 0.448 1 1s-0.448 1-1 1z\"></path>\n",
       "<path d=\"M23 22h-14c-0.552 0-1-0.448-1-1s0.448-1 1-1h14c0.552 0 1 0.448 1 1s-0.448 1-1 1z\"></path>\n",
       "<path d=\"M23 18h-14c-0.552 0-1-0.448-1-1s0.448-1 1-1h14c0.552 0 1 0.448 1 1s-0.448 1-1 1z\"></path>\n",
       "</symbol>\n",
       "</defs>\n",
       "</svg>\n",
       "<style>/* CSS stylesheet for displaying xarray objects in jupyterlab.\n",
       " *\n",
       " */\n",
       "\n",
       ":root {\n",
       "  --xr-font-color0: var(--jp-content-font-color0, rgba(0, 0, 0, 1));\n",
       "  --xr-font-color2: var(--jp-content-font-color2, rgba(0, 0, 0, 0.54));\n",
       "  --xr-font-color3: var(--jp-content-font-color3, rgba(0, 0, 0, 0.38));\n",
       "  --xr-border-color: var(--jp-border-color2, #e0e0e0);\n",
       "  --xr-disabled-color: var(--jp-layout-color3, #bdbdbd);\n",
       "  --xr-background-color: var(--jp-layout-color0, white);\n",
       "  --xr-background-color-row-even: var(--jp-layout-color1, white);\n",
       "  --xr-background-color-row-odd: var(--jp-layout-color2, #eeeeee);\n",
       "}\n",
       "\n",
       "html[theme=dark],\n",
       "body[data-theme=dark],\n",
       "body.vscode-dark {\n",
       "  --xr-font-color0: rgba(255, 255, 255, 1);\n",
       "  --xr-font-color2: rgba(255, 255, 255, 0.54);\n",
       "  --xr-font-color3: rgba(255, 255, 255, 0.38);\n",
       "  --xr-border-color: #1F1F1F;\n",
       "  --xr-disabled-color: #515151;\n",
       "  --xr-background-color: #111111;\n",
       "  --xr-background-color-row-even: #111111;\n",
       "  --xr-background-color-row-odd: #313131;\n",
       "}\n",
       "\n",
       ".xr-wrap {\n",
       "  display: block !important;\n",
       "  min-width: 300px;\n",
       "  max-width: 700px;\n",
       "}\n",
       "\n",
       ".xr-text-repr-fallback {\n",
       "  /* fallback to plain text repr when CSS is not injected (untrusted notebook) */\n",
       "  display: none;\n",
       "}\n",
       "\n",
       ".xr-header {\n",
       "  padding-top: 6px;\n",
       "  padding-bottom: 6px;\n",
       "  margin-bottom: 4px;\n",
       "  border-bottom: solid 1px var(--xr-border-color);\n",
       "}\n",
       "\n",
       ".xr-header > div,\n",
       ".xr-header > ul {\n",
       "  display: inline;\n",
       "  margin-top: 0;\n",
       "  margin-bottom: 0;\n",
       "}\n",
       "\n",
       ".xr-obj-type,\n",
       ".xr-array-name {\n",
       "  margin-left: 2px;\n",
       "  margin-right: 10px;\n",
       "}\n",
       "\n",
       ".xr-obj-type {\n",
       "  color: var(--xr-font-color2);\n",
       "}\n",
       "\n",
       ".xr-sections {\n",
       "  padding-left: 0 !important;\n",
       "  display: grid;\n",
       "  grid-template-columns: 150px auto auto 1fr 20px 20px;\n",
       "}\n",
       "\n",
       ".xr-section-item {\n",
       "  display: contents;\n",
       "}\n",
       "\n",
       ".xr-section-item input {\n",
       "  display: none;\n",
       "}\n",
       "\n",
       ".xr-section-item input + label {\n",
       "  color: var(--xr-disabled-color);\n",
       "}\n",
       "\n",
       ".xr-section-item input:enabled + label {\n",
       "  cursor: pointer;\n",
       "  color: var(--xr-font-color2);\n",
       "}\n",
       "\n",
       ".xr-section-item input:enabled + label:hover {\n",
       "  color: var(--xr-font-color0);\n",
       "}\n",
       "\n",
       ".xr-section-summary {\n",
       "  grid-column: 1;\n",
       "  color: var(--xr-font-color2);\n",
       "  font-weight: 500;\n",
       "}\n",
       "\n",
       ".xr-section-summary > span {\n",
       "  display: inline-block;\n",
       "  padding-left: 0.5em;\n",
       "}\n",
       "\n",
       ".xr-section-summary-in:disabled + label {\n",
       "  color: var(--xr-font-color2);\n",
       "}\n",
       "\n",
       ".xr-section-summary-in + label:before {\n",
       "  display: inline-block;\n",
       "  content: '►';\n",
       "  font-size: 11px;\n",
       "  width: 15px;\n",
       "  text-align: center;\n",
       "}\n",
       "\n",
       ".xr-section-summary-in:disabled + label:before {\n",
       "  color: var(--xr-disabled-color);\n",
       "}\n",
       "\n",
       ".xr-section-summary-in:checked + label:before {\n",
       "  content: '▼';\n",
       "}\n",
       "\n",
       ".xr-section-summary-in:checked + label > span {\n",
       "  display: none;\n",
       "}\n",
       "\n",
       ".xr-section-summary,\n",
       ".xr-section-inline-details {\n",
       "  padding-top: 4px;\n",
       "  padding-bottom: 4px;\n",
       "}\n",
       "\n",
       ".xr-section-inline-details {\n",
       "  grid-column: 2 / -1;\n",
       "}\n",
       "\n",
       ".xr-section-details {\n",
       "  display: none;\n",
       "  grid-column: 1 / -1;\n",
       "  margin-bottom: 5px;\n",
       "}\n",
       "\n",
       ".xr-section-summary-in:checked ~ .xr-section-details {\n",
       "  display: contents;\n",
       "}\n",
       "\n",
       ".xr-array-wrap {\n",
       "  grid-column: 1 / -1;\n",
       "  display: grid;\n",
       "  grid-template-columns: 20px auto;\n",
       "}\n",
       "\n",
       ".xr-array-wrap > label {\n",
       "  grid-column: 1;\n",
       "  vertical-align: top;\n",
       "}\n",
       "\n",
       ".xr-preview {\n",
       "  color: var(--xr-font-color3);\n",
       "}\n",
       "\n",
       ".xr-array-preview,\n",
       ".xr-array-data {\n",
       "  padding: 0 5px !important;\n",
       "  grid-column: 2;\n",
       "}\n",
       "\n",
       ".xr-array-data,\n",
       ".xr-array-in:checked ~ .xr-array-preview {\n",
       "  display: none;\n",
       "}\n",
       "\n",
       ".xr-array-in:checked ~ .xr-array-data,\n",
       ".xr-array-preview {\n",
       "  display: inline-block;\n",
       "}\n",
       "\n",
       ".xr-dim-list {\n",
       "  display: inline-block !important;\n",
       "  list-style: none;\n",
       "  padding: 0 !important;\n",
       "  margin: 0;\n",
       "}\n",
       "\n",
       ".xr-dim-list li {\n",
       "  display: inline-block;\n",
       "  padding: 0;\n",
       "  margin: 0;\n",
       "}\n",
       "\n",
       ".xr-dim-list:before {\n",
       "  content: '(';\n",
       "}\n",
       "\n",
       ".xr-dim-list:after {\n",
       "  content: ')';\n",
       "}\n",
       "\n",
       ".xr-dim-list li:not(:last-child):after {\n",
       "  content: ',';\n",
       "  padding-right: 5px;\n",
       "}\n",
       "\n",
       ".xr-has-index {\n",
       "  font-weight: bold;\n",
       "}\n",
       "\n",
       ".xr-var-list,\n",
       ".xr-var-item {\n",
       "  display: contents;\n",
       "}\n",
       "\n",
       ".xr-var-item > div,\n",
       ".xr-var-item label,\n",
       ".xr-var-item > .xr-var-name span {\n",
       "  background-color: var(--xr-background-color-row-even);\n",
       "  margin-bottom: 0;\n",
       "}\n",
       "\n",
       ".xr-var-item > .xr-var-name:hover span {\n",
       "  padding-right: 5px;\n",
       "}\n",
       "\n",
       ".xr-var-list > li:nth-child(odd) > div,\n",
       ".xr-var-list > li:nth-child(odd) > label,\n",
       ".xr-var-list > li:nth-child(odd) > .xr-var-name span {\n",
       "  background-color: var(--xr-background-color-row-odd);\n",
       "}\n",
       "\n",
       ".xr-var-name {\n",
       "  grid-column: 1;\n",
       "}\n",
       "\n",
       ".xr-var-dims {\n",
       "  grid-column: 2;\n",
       "}\n",
       "\n",
       ".xr-var-dtype {\n",
       "  grid-column: 3;\n",
       "  text-align: right;\n",
       "  color: var(--xr-font-color2);\n",
       "}\n",
       "\n",
       ".xr-var-preview {\n",
       "  grid-column: 4;\n",
       "}\n",
       "\n",
       ".xr-var-name,\n",
       ".xr-var-dims,\n",
       ".xr-var-dtype,\n",
       ".xr-preview,\n",
       ".xr-attrs dt {\n",
       "  white-space: nowrap;\n",
       "  overflow: hidden;\n",
       "  text-overflow: ellipsis;\n",
       "  padding-right: 10px;\n",
       "}\n",
       "\n",
       ".xr-var-name:hover,\n",
       ".xr-var-dims:hover,\n",
       ".xr-var-dtype:hover,\n",
       ".xr-attrs dt:hover {\n",
       "  overflow: visible;\n",
       "  width: auto;\n",
       "  z-index: 1;\n",
       "}\n",
       "\n",
       ".xr-var-attrs,\n",
       ".xr-var-data {\n",
       "  display: none;\n",
       "  background-color: var(--xr-background-color) !important;\n",
       "  padding-bottom: 5px !important;\n",
       "}\n",
       "\n",
       ".xr-var-attrs-in:checked ~ .xr-var-attrs,\n",
       ".xr-var-data-in:checked ~ .xr-var-data {\n",
       "  display: block;\n",
       "}\n",
       "\n",
       ".xr-var-data > table {\n",
       "  float: right;\n",
       "}\n",
       "\n",
       ".xr-var-name span,\n",
       ".xr-var-data,\n",
       ".xr-attrs {\n",
       "  padding-left: 25px !important;\n",
       "}\n",
       "\n",
       ".xr-attrs,\n",
       ".xr-var-attrs,\n",
       ".xr-var-data {\n",
       "  grid-column: 1 / -1;\n",
       "}\n",
       "\n",
       "dl.xr-attrs {\n",
       "  padding: 0;\n",
       "  margin: 0;\n",
       "  display: grid;\n",
       "  grid-template-columns: 125px auto;\n",
       "}\n",
       "\n",
       ".xr-attrs dt,\n",
       ".xr-attrs dd {\n",
       "  padding: 0;\n",
       "  margin: 0;\n",
       "  float: left;\n",
       "  padding-right: 10px;\n",
       "  width: auto;\n",
       "}\n",
       "\n",
       ".xr-attrs dt {\n",
       "  font-weight: normal;\n",
       "  grid-column: 1;\n",
       "}\n",
       "\n",
       ".xr-attrs dt:hover span {\n",
       "  display: inline-block;\n",
       "  background: var(--xr-background-color);\n",
       "  padding-right: 10px;\n",
       "}\n",
       "\n",
       ".xr-attrs dd {\n",
       "  grid-column: 2;\n",
       "  white-space: pre-wrap;\n",
       "  word-break: break-all;\n",
       "}\n",
       "\n",
       ".xr-icon-database,\n",
       ".xr-icon-file-text2 {\n",
       "  display: inline-block;\n",
       "  vertical-align: middle;\n",
       "  width: 1em;\n",
       "  height: 1.5em !important;\n",
       "  stroke-width: 0;\n",
       "  stroke: currentColor;\n",
       "  fill: currentColor;\n",
       "}\n",
       "</style><pre class='xr-text-repr-fallback'>&lt;xarray.DataArray ()&gt;\n",
       "array(14237.13703151)\n",
       "Coordinates:\n",
       "    x        float64 0.277\n",
       "    y        float64 -0.355\n",
       "    z        float64 -0.51\n",
       "    hv       float64 106.0</pre><div class='xr-wrap' style='display:none'><div class='xr-header'><div class='xr-obj-type'>xarray.DataArray</div><div class='xr-array-name'></div></div><ul class='xr-sections'><li class='xr-section-item'><div class='xr-array-wrap'><input id='section-7f24afb3-4d50-401b-bbac-3436bd0b4aac' class='xr-array-in' type='checkbox' checked><label for='section-7f24afb3-4d50-401b-bbac-3436bd0b4aac' title='Show/hide data repr'><svg class='icon xr-icon-database'><use xlink:href='#icon-database'></use></svg></label><div class='xr-array-preview xr-preview'><span>1.424e+04</span></div><div class='xr-array-data'><pre>array(14237.13703151)</pre></div></div></li><li class='xr-section-item'><input id='section-fdb659a5-ed97-4565-bb39-f2e579dba5dd' class='xr-section-summary-in' type='checkbox'  checked><label for='section-fdb659a5-ed97-4565-bb39-f2e579dba5dd' class='xr-section-summary' >Coordinates: <span>(4)</span></label><div class='xr-section-inline-details'></div><div class='xr-section-details'><ul class='xr-var-list'><li class='xr-var-item'><div class='xr-var-name'><span>x</span></div><div class='xr-var-dims'>()</div><div class='xr-var-dtype'>float64</div><div class='xr-var-preview xr-preview'>...</div><input id='attrs-526cd691-a719-4740-ba0f-5563b378c35a' class='xr-var-attrs-in' type='checkbox' disabled><label for='attrs-526cd691-a719-4740-ba0f-5563b378c35a' title='Show/Hide attributes'><svg class='icon xr-icon-file-text2'><use xlink:href='#icon-file-text2'></use></svg></label><input id='data-fa0a65f3-9714-40a1-8b4d-96501b5e28f1' class='xr-var-data-in' type='checkbox'><label for='data-fa0a65f3-9714-40a1-8b4d-96501b5e28f1' title='Show/Hide data repr'><svg class='icon xr-icon-database'><use xlink:href='#icon-database'></use></svg></label><div class='xr-var-attrs'><dl class='xr-attrs'></dl></div><div class='xr-var-data'><pre>array(0.277)</pre></div></li><li class='xr-var-item'><div class='xr-var-name'><span>y</span></div><div class='xr-var-dims'>()</div><div class='xr-var-dtype'>float64</div><div class='xr-var-preview xr-preview'>...</div><input id='attrs-3d30f72c-acf2-44a7-9c18-551d5b4cb9e3' class='xr-var-attrs-in' type='checkbox' disabled><label for='attrs-3d30f72c-acf2-44a7-9c18-551d5b4cb9e3' title='Show/Hide attributes'><svg class='icon xr-icon-file-text2'><use xlink:href='#icon-file-text2'></use></svg></label><input id='data-37cf0e27-ab6b-4cb7-8f75-a2e61ae918b0' class='xr-var-data-in' type='checkbox'><label for='data-37cf0e27-ab6b-4cb7-8f75-a2e61ae918b0' title='Show/Hide data repr'><svg class='icon xr-icon-database'><use xlink:href='#icon-database'></use></svg></label><div class='xr-var-attrs'><dl class='xr-attrs'></dl></div><div class='xr-var-data'><pre>array(-0.355)</pre></div></li><li class='xr-var-item'><div class='xr-var-name'><span>z</span></div><div class='xr-var-dims'>()</div><div class='xr-var-dtype'>float64</div><div class='xr-var-preview xr-preview'>...</div><input id='attrs-200cecdc-01c5-4681-ae19-9397665a8fd0' class='xr-var-attrs-in' type='checkbox' disabled><label for='attrs-200cecdc-01c5-4681-ae19-9397665a8fd0' title='Show/Hide attributes'><svg class='icon xr-icon-file-text2'><use xlink:href='#icon-file-text2'></use></svg></label><input id='data-1a83a5eb-e1ab-4064-8527-01cec2e8924d' class='xr-var-data-in' type='checkbox'><label for='data-1a83a5eb-e1ab-4064-8527-01cec2e8924d' title='Show/Hide data repr'><svg class='icon xr-icon-database'><use xlink:href='#icon-database'></use></svg></label><div class='xr-var-attrs'><dl class='xr-attrs'></dl></div><div class='xr-var-data'><pre>array(-0.51)</pre></div></li><li class='xr-var-item'><div class='xr-var-name'><span>hv</span></div><div class='xr-var-dims'>()</div><div class='xr-var-dtype'>float64</div><div class='xr-var-preview xr-preview'>...</div><input id='attrs-28e35b25-cf9c-4d0d-8072-de0976a4ad3e' class='xr-var-attrs-in' type='checkbox' disabled><label for='attrs-28e35b25-cf9c-4d0d-8072-de0976a4ad3e' title='Show/Hide attributes'><svg class='icon xr-icon-file-text2'><use xlink:href='#icon-file-text2'></use></svg></label><input id='data-e87a0b5f-0ca8-4b62-bdcf-02c0370e806d' class='xr-var-data-in' type='checkbox'><label for='data-e87a0b5f-0ca8-4b62-bdcf-02c0370e806d' title='Show/Hide data repr'><svg class='icon xr-icon-database'><use xlink:href='#icon-database'></use></svg></label><div class='xr-var-attrs'><dl class='xr-attrs'></dl></div><div class='xr-var-data'><pre>array(106.)</pre></div></li></ul></div></li><li class='xr-section-item'><input id='section-fe1b5d9b-c1b3-4071-9049-5434680aefbc' class='xr-section-summary-in' type='checkbox' disabled ><label for='section-fe1b5d9b-c1b3-4071-9049-5434680aefbc' class='xr-section-summary'  title='Expand/collapse section'>Attributes: <span>(0)</span></label><div class='xr-section-inline-details'></div><div class='xr-section-details'><dl class='xr-attrs'></dl></div></li></ul></div></div>"
      ],
      "text/plain": [
       "<xarray.DataArray ()>\n",
       "array(14237.13703151)\n",
       "Coordinates:\n",
       "    x        float64 ...\n",
       "    y        float64 ...\n",
       "    z        float64 ...\n",
       "    hv       float64 ..."
      ]
     },
     "execution_count": 91,
     "metadata": {},
     "output_type": "execute_result"
    }
   ],
   "source": [
    "data.max()"
   ]
  },
  {
   "cell_type": "code",
   "execution_count": 96,
   "metadata": {},
   "outputs": [
    {
     "name": "stdout",
     "output_type": "stream",
     "text": [
      "3 8\n",
      "2 a\n",
      "1 3\n",
      "0 z\n"
     ]
    }
   ],
   "source": [
    "for i, v in sorted(enumerate([\"z\",3,\"a\",8]), reverse=True):\n",
    "    print(i,v)"
   ]
  },
  {
   "cell_type": "code",
   "execution_count": null,
   "metadata": {},
   "outputs": [],
   "source": [
    "it = iter(s)\n",
    "a = next(it, None)\n",
    "return all(a == b for b in it)\n"
   ]
  },
  {
   "cell_type": "code",
   "execution_count": 8,
   "metadata": {},
   "outputs": [
    {
     "name": "stdout",
     "output_type": "stream",
     "text": [
      "16\n",
      "15\n"
     ]
    }
   ],
   "source": [
    "\n",
    "from PySide6 import QtWidgets, QtCore, QtGui\n",
    "import sys\n",
    "class MyWidget(QtWidgets.QWidget):\n",
    "    def __init__(self):\n",
    "        super().__init__()\n",
    "        print(QtGui.QFontMetrics(self.font()).height())\n",
    "        print(QtGui.QFontMetrics(self.font()).boundingRect('X').height())\n",
    "        self.button = QtWidgets.QPushButton(\"Click me!\")\n",
    "        self.text = QtWidgets.QLabel(\"Hello World\",\n",
    "                                     alignment=QtCore.Qt.AlignCenter)\n",
    "\n",
    "        self.layout = QtWidgets.QVBoxLayout(self)\n",
    "        self.layout.addWidget(self.text)\n",
    "        self.layout.addWidget(self.button)\n",
    "\n",
    "        self.button.clicked.connect(self.magic)\n",
    "\n",
    "    @QtCore.Slot()\n",
    "    def magic(self):\n",
    "        self.text.setText(\"hey\")\n",
    "    \n",
    "if __name__ == \"__main__\":\n",
    "    qapp = QtWidgets.QApplication.instance()\n",
    "    if not qapp:\n",
    "        qapp = QtWidgets.QApplication(sys.argv)\n",
    "    qapp.setStyle(\"Fusion\")\n",
    "    # demo.set_data(data)\n",
    "    demo = MyWidget()\n",
    "    demo.show()\n",
    "    demo.raise_()\n",
    "    qapp.exec()"
   ]
  },
  {
   "cell_type": "code",
   "execution_count": 10,
   "metadata": {},
   "outputs": [
    {
     "ename": "NameError",
     "evalue": "name 'data' is not defined",
     "output_type": "error",
     "traceback": [
      "\u001b[0;31m---------------------------------------------------------------------------\u001b[0m",
      "\u001b[0;31mNameError\u001b[0m                                 Traceback (most recent call last)",
      "\u001b[1;32m/Users/khan/Source/python/erlabpy/erlab/plotting/interactive/itool_testing.ipynb Cell 7\u001b[0m in \u001b[0;36m<cell line: 1>\u001b[0;34m()\u001b[0m\n\u001b[0;32m----> <a href='vscode-notebook-cell:/Users/khan/Source/python/erlabpy/erlab/plotting/interactive/itool_testing.ipynb#Y141sZmlsZQ%3D%3D?line=0'>1</a>\u001b[0m data\n",
      "\u001b[0;31mNameError\u001b[0m: name 'data' is not defined"
     ]
    }
   ],
   "source": []
  },
  {
   "cell_type": "code",
   "execution_count": null,
   "metadata": {},
   "outputs": [],
   "source": [
    "\\bT12\\parens{\\muu1-\\muu2}+\\bT13\\parens{\\muu1-\\muu3}+\\bT14\\parens{\\muu1-\\muu4}+\\dots"
   ]
  },
  {
   "cell_type": "code",
   "execution_count": 113,
   "metadata": {},
   "outputs": [
    {
     "name": "stdout",
     "output_type": "stream",
     "text": [
      "14.6 µs ± 98.1 ns per loop (mean ± std. dev. of 7 runs, 100,000 loops each)\n"
     ]
    }
   ],
   "source": [
    "import numba\n",
    "# @numba.njit\n",
    "def is_even(arr):\n",
    "    diff = np.diff(arr)\n",
    "    d0 = diff[0]\n",
    "    return np.all(diff == diff[0])\n",
    "    # return len(set(diff)) == 1\n",
    "    # return np.amin(diff) == np.amax(diff)\n",
    "\n",
    "is_even(data.eV.values)\n",
    "%timeit is_even(data.eV.values)"
   ]
  },
  {
   "cell_type": "code",
   "execution_count": 92,
   "metadata": {},
   "outputs": [
    {
     "data": {
      "text/plain": [
       "4.153422665113727"
      ]
     },
     "execution_count": 92,
     "metadata": {},
     "output_type": "execute_result"
    }
   ],
   "source": [
    "np.log10(14237.13703151)"
   ]
  },
  {
   "cell_type": "code",
   "execution_count": 12,
   "metadata": {},
   "outputs": [],
   "source": [
    "data = xr.open_dataarray(\n",
    "        \"/Users/khan/Documents/ERLab/CsV3Sb5/2021_Dec_ALS_CV3Sb5/Data/cvs_kxy_small.nc\"\n",
    "    )"
   ]
  },
  {
   "cell_type": "code",
   "execution_count": 28,
   "metadata": {},
   "outputs": [
    {
     "ename": "AttributeError",
     "evalue": "'Series' object has no attribute 'value'",
     "output_type": "error",
     "traceback": [
      "\u001b[0;31m---------------------------------------------------------------------------\u001b[0m",
      "\u001b[0;31mAttributeError\u001b[0m                            Traceback (most recent call last)",
      "\u001b[1;32m/Users/khan/Source/python/erlabpy/erlab/plotting/interactive/itool_testing.ipynb Cell 12\u001b[0m in \u001b[0;36m<cell line: 4>\u001b[0;34m()\u001b[0m\n\u001b[1;32m      <a href='vscode-notebook-cell:/Users/khan/Source/python/erlabpy/erlab/plotting/interactive/itool_testing.ipynb#Y142sZmlsZQ%3D%3D?line=0'>1</a>\u001b[0m \u001b[39mimport\u001b[39;00m \u001b[39mpandas\u001b[39;00m \u001b[39mas\u001b[39;00m \u001b[39mpd\u001b[39;00m\n\u001b[1;32m      <a href='vscode-notebook-cell:/Users/khan/Source/python/erlabpy/erlab/plotting/interactive/itool_testing.ipynb#Y142sZmlsZQ%3D%3D?line=2'>3</a>\u001b[0m df \u001b[39m=\u001b[39m data\u001b[39m.\u001b[39mrename(\u001b[39m'\u001b[39m\u001b[39mhello\u001b[39m\u001b[39m'\u001b[39m)\u001b[39m.\u001b[39mto_dataframe()\n\u001b[0;32m----> <a href='vscode-notebook-cell:/Users/khan/Source/python/erlabpy/erlab/plotting/interactive/itool_testing.ipynb#Y142sZmlsZQ%3D%3D?line=3'>4</a>\u001b[0m df[\u001b[39m'\u001b[39;49m\u001b[39mhello\u001b[39;49m\u001b[39m'\u001b[39;49m]\u001b[39m.\u001b[39;49mvalue\n",
      "File \u001b[0;32m~/miniforge3/envs/erlabenv/lib/python3.10/site-packages/pandas/core/generic.py:5575\u001b[0m, in \u001b[0;36mNDFrame.__getattr__\u001b[0;34m(self, name)\u001b[0m\n\u001b[1;32m   5568\u001b[0m \u001b[39mif\u001b[39;00m (\n\u001b[1;32m   5569\u001b[0m     name \u001b[39mnot\u001b[39;00m \u001b[39min\u001b[39;00m \u001b[39mself\u001b[39m\u001b[39m.\u001b[39m_internal_names_set\n\u001b[1;32m   5570\u001b[0m     \u001b[39mand\u001b[39;00m name \u001b[39mnot\u001b[39;00m \u001b[39min\u001b[39;00m \u001b[39mself\u001b[39m\u001b[39m.\u001b[39m_metadata\n\u001b[1;32m   5571\u001b[0m     \u001b[39mand\u001b[39;00m name \u001b[39mnot\u001b[39;00m \u001b[39min\u001b[39;00m \u001b[39mself\u001b[39m\u001b[39m.\u001b[39m_accessors\n\u001b[1;32m   5572\u001b[0m     \u001b[39mand\u001b[39;00m \u001b[39mself\u001b[39m\u001b[39m.\u001b[39m_info_axis\u001b[39m.\u001b[39m_can_hold_identifiers_and_holds_name(name)\n\u001b[1;32m   5573\u001b[0m ):\n\u001b[1;32m   5574\u001b[0m     \u001b[39mreturn\u001b[39;00m \u001b[39mself\u001b[39m[name]\n\u001b[0;32m-> 5575\u001b[0m \u001b[39mreturn\u001b[39;00m \u001b[39mobject\u001b[39;49m\u001b[39m.\u001b[39;49m\u001b[39m__getattribute__\u001b[39;49m(\u001b[39mself\u001b[39;49m, name)\n",
      "\u001b[0;31mAttributeError\u001b[0m: 'Series' object has no attribute 'value'"
     ]
    },
    {
     "ename": "",
     "evalue": "",
     "output_type": "error",
     "traceback": [
      "\u001b[1;31mThe Kernel crashed while executing code in the the current cell or a previous cell. Please review the code in the cell(s) to identify a possible cause of the failure. Click <a href='https://aka.ms/vscodeJupyterKernelCrash'>here</a> for more info. View Jupyter <a href='command:jupyter.viewOutput'>log</a> for further details."
     ]
    }
   ],
   "source": [
    "import pandas as pd\n",
    "\n",
    "df = data.rename('hello').to_dataframe()\n",
    "df['hello'].value"
   ]
  },
  {
   "cell_type": "code",
   "execution_count": 30,
   "metadata": {},
   "outputs": [
    {
     "data": {
      "text/plain": [
       "1039.0"
      ]
     },
     "execution_count": 30,
     "metadata": {},
     "output_type": "execute_result"
    }
   ],
   "source": [
    "lims = data._slicer.lims[0]\n",
    "inc = data._slicer.incs[0]\n",
    "(lims[1] - lims[0])/inc"
   ]
  },
  {
   "cell_type": "code",
   "execution_count": 36,
   "metadata": {},
   "outputs": [
    {
     "data": {
      "text/plain": [
       "array([ 3.  ,  3.25,  3.5 ,  3.75,  4.  ,  4.25,  4.5 ,  4.75,  5.  ,\n",
       "        5.25,  5.5 ,  5.75,  6.  ,  6.25,  6.5 ,  6.75,  7.  ,  7.25,\n",
       "        7.5 ,  7.75,  8.  ,  8.25,  8.5 ,  8.75,  9.  ,  9.25,  9.5 ,\n",
       "        9.75, 10.  , 10.25])"
      ]
     },
     "execution_count": 36,
     "metadata": {},
     "output_type": "execute_result"
    }
   ],
   "source": [
    "arr = np.arange(30).astype(float)*0.25 + 3\n",
    "arr"
   ]
  },
  {
   "cell_type": "code",
   "execution_count": 57,
   "metadata": {},
   "outputs": [
    {
     "data": {
      "text/plain": [
       "1"
      ]
     },
     "execution_count": 57,
     "metadata": {},
     "output_type": "execute_result"
    }
   ],
   "source": [
    "np.searchsorted(arr+(0.25/2), 3.126)"
   ]
  },
  {
   "cell_type": "code",
   "execution_count": 73,
   "metadata": {},
   "outputs": [
    {
     "data": {
      "text/plain": [
       "-0.7312103509902954"
      ]
     },
     "execution_count": 73,
     "metadata": {},
     "output_type": "execute_result"
    }
   ],
   "source": [
    "import numba\n",
    "@numba.njit(fastmath=True, cache=True)\n",
    "def index_of_value_jit(arr, val):\n",
    "    inc = arr[1] - arr[0]\n",
    "    \n",
    "    ind = min(\n",
    "        round((val - arr[0]) / inc),\n",
    "        len(arr) - 1,\n",
    "    )\n",
    "    if ind < 0:\n",
    "        return 0\n",
    "    return ind\n",
    "@numba.njit(fastmath=True, cache=True)\n",
    "def nearest_value_jit(arr, val):\n",
    "    inc = arr[1] - arr[0]\n",
    "    \n",
    "    ind = max(min(\n",
    "        round((val - arr[0]) / inc),\n",
    "        len(arr) - 1,\n",
    "    ), 0)\n",
    "    return inc * ind + arr[0]\n",
    "\n",
    "@numba.njit(fastmath=True, cache=True)\n",
    "def index_of_value_regular_jit(arr, val):\n",
    "    return np.searchsorted((arr[:-1] + arr[1:]) / 2, val)\n",
    "\n",
    "\n",
    "arr = data.eV.values\n",
    "nearest_value_jit(arr,-0.73142412)\n",
    "# %timeit index_of_value_jit(arr, -0.73142412)\n",
    "\n",
    "\n",
    "# %timeit index_of_value_regular_jit(arr, -0.73142412)"
   ]
  },
  {
   "cell_type": "code",
   "execution_count": null,
   "metadata": {},
   "outputs": [],
   "source": []
  },
  {
   "cell_type": "markdown",
   "metadata": {},
   "source": []
  },
  {
   "cell_type": "code",
   "execution_count": 88,
   "metadata": {},
   "outputs": [
    {
     "data": {
      "text/plain": [
       "4.084370073151247"
      ]
     },
     "execution_count": 88,
     "metadata": {},
     "output_type": "execute_result"
    }
   ],
   "source": [
    "np.log10(12144.2325)"
   ]
  },
  {
   "cell_type": "code",
   "execution_count": 87,
   "metadata": {},
   "outputs": [
    {
     "data": {
      "text/plain": [
       "'12331330.'"
      ]
     },
     "execution_count": 87,
     "metadata": {},
     "output_type": "execute_result"
    }
   ],
   "source": [
    "import numpy as np\n",
    "np.format_float_positional(12331329.93532, 7, fractional=False)"
   ]
  },
  {
   "cell_type": "code",
   "execution_count": 69,
   "metadata": {},
   "outputs": [
    {
     "data": {
      "text/plain": [
       "array([0.001634, 0.001634, 0.001634, ..., 0.001634, 0.001634, 0.001634])"
      ]
     },
     "execution_count": 69,
     "metadata": {},
     "output_type": "execute_result"
    }
   ],
   "source": [
    "np.diff(arr)"
   ]
  },
  {
   "cell_type": "code",
   "execution_count": 70,
   "metadata": {},
   "outputs": [
    {
     "data": {
      "text/plain": [
       "array([-1.348046  , -1.346412  , -1.344778  , ...,  0.34477979,\n",
       "        0.34641379,  0.34804779])"
      ]
     },
     "execution_count": 70,
     "metadata": {},
     "output_type": "execute_result"
    }
   ],
   "source": []
  },
  {
   "cell_type": "code",
   "execution_count": null,
   "metadata": {},
   "outputs": [],
   "source": [
    "5.625"
   ]
  },
  {
   "cell_type": "code",
   "execution_count": 37,
   "metadata": {},
   "outputs": [
    {
     "data": {
      "text/plain": [
       "10.0888444"
      ]
     },
     "execution_count": 37,
     "metadata": {},
     "output_type": "execute_result"
    }
   ],
   "source": [
    "(5.5222111 - arr[0])/0.25"
   ]
  },
  {
   "cell_type": "code",
   "execution_count": null,
   "metadata": {},
   "outputs": [],
   "source": []
  },
  {
   "cell_type": "code",
   "execution_count": 29,
   "metadata": {},
   "outputs": [
    {
     "data": {
      "text/plain": [
       "(1040, 83, 167)"
      ]
     },
     "execution_count": 29,
     "metadata": {},
     "output_type": "execute_result"
    }
   ],
   "source": [
    "data.shape"
   ]
  },
  {
   "cell_type": "code",
   "execution_count": 25,
   "metadata": {},
   "outputs": [
    {
     "data": {
      "text/plain": [
       "14237.137031508191"
      ]
     },
     "execution_count": 25,
     "metadata": {},
     "output_type": "execute_result"
    }
   ],
   "source": [
    "import numbagg\n",
    "numbagg.nanmax(data.values)"
   ]
  },
  {
   "cell_type": "code",
   "execution_count": 16,
   "metadata": {},
   "outputs": [
    {
     "data": {
      "text/plain": [
       "'123.124'"
      ]
     },
     "execution_count": 16,
     "metadata": {},
     "output_type": "execute_result"
    }
   ],
   "source": [
    "np.format_float_positional(123.123512, 6, fractional=False)"
   ]
  },
  {
   "cell_type": "code",
   "execution_count": 4,
   "metadata": {},
   "outputs": [
    {
     "data": {
      "text/plain": [
       "Interpolator(lower_corner=[-1.3488630056381226, -1.34, -1.77], delta=[0.0016340017318725586, 0.020000000000000018, 0.020000000000000018], shape=[1040, 83, 167], data=array([[[nan, nan, nan, ..., nan, nan, nan],\n",
       "        [nan, nan, nan, ..., nan, nan, nan],\n",
       "        [nan, nan, nan, ...,  0.,  0.,  0.],\n",
       "        ...,\n",
       "        [nan, nan, nan, ..., nan, nan, nan],\n",
       "        [nan, nan, nan, ..., nan, nan, nan],\n",
       "        [nan, nan, nan, ..., nan, nan, nan]],\n",
       "\n",
       "       [[nan, nan, nan, ..., nan, nan, nan],\n",
       "        [nan, nan, nan, ..., nan, nan, nan],\n",
       "        [nan, nan, nan, ...,  0.,  0.,  0.],\n",
       "        ...,\n",
       "        [nan, nan, nan, ..., nan, nan, nan],\n",
       "        [nan, nan, nan, ..., nan, nan, nan],\n",
       "        [nan, nan, nan, ..., nan, nan, nan]],\n",
       "\n",
       "       [[nan, nan, nan, ..., nan, nan, nan],\n",
       "        [nan, nan, nan, ..., nan, nan, nan],\n",
       "        [nan, nan, nan, ...,  0.,  0.,  0.],\n",
       "        ...,\n",
       "        [nan, nan, nan, ..., nan, nan, nan],\n",
       "        [nan, nan, nan, ..., nan, nan, nan],\n",
       "        [nan, nan, nan, ..., nan, nan, nan]],\n",
       "\n",
       "       ...,\n",
       "\n",
       "       [[nan, nan, nan, ..., nan, nan, nan],\n",
       "        [nan, nan, nan, ...,  0.,  0., nan],\n",
       "        [nan, nan, nan, ...,  0.,  0.,  0.],\n",
       "        ...,\n",
       "        [nan, nan, nan, ..., nan, nan, nan],\n",
       "        [nan, nan, nan, ..., nan, nan, nan],\n",
       "        [nan, nan, nan, ..., nan, nan, nan]],\n",
       "\n",
       "       [[nan, nan, nan, ..., nan, nan, nan],\n",
       "        [nan, nan, nan, ...,  0.,  0., nan],\n",
       "        [nan, nan, nan, ...,  0.,  0.,  0.],\n",
       "        ...,\n",
       "        [nan, nan, nan, ..., nan, nan, nan],\n",
       "        [nan, nan, nan, ..., nan, nan, nan],\n",
       "        [nan, nan, nan, ..., nan, nan, nan]],\n",
       "\n",
       "       [[nan, nan, nan, ..., nan, nan, nan],\n",
       "        [nan, nan, nan, ...,  0.,  0., nan],\n",
       "        [nan, nan, nan, ...,  0.,  0.,  0.],\n",
       "        ...,\n",
       "        [nan, nan, nan, ..., nan, nan, nan],\n",
       "        [nan, nan, nan, ..., nan, nan, nan],\n",
       "        [nan, nan, nan, ..., nan, nan, nan]]]))"
      ]
     },
     "execution_count": 4,
     "metadata": {},
     "output_type": "execute_result"
    }
   ],
   "source": [
    "from arpes.utilities.conversion.core import grid_interpolator_from_dataarray\n",
    "data = xr.open_dataarray(\n",
    "        \"/Users/khan/Documents/ERLab/CsV3Sb5/2021_Dec_ALS_CV3Sb5/Data/cvs_kxy_small.nc\"\n",
    "    )\n",
    "\n",
    "interpolator = grid_interpolator_from_dataarray(data, method=\"linear\")\n"
   ]
  },
  {
   "cell_type": "code",
   "execution_count": 14,
   "metadata": {},
   "outputs": [
    {
     "data": {
      "text/plain": [
       "[False, True]"
      ]
     },
     "execution_count": 14,
     "metadata": {},
     "output_type": "execute_result"
    }
   ],
   "source": [
    "demo.profiles[0].plotItem.vb.autoRangeEnabled()"
   ]
  },
  {
   "cell_type": "code",
   "execution_count": 52,
   "metadata": {},
   "outputs": [],
   "source": [
    "%autoreload 2\n",
    "%gui qt\n",
    "from imagetool_new import ImageSlicerArea\n",
    "if __name__ == \"__main__\":\n",
    "    qapp = QtWidgets.QApplication.instance()\n",
    "    if not qapp:\n",
    "        qapp = QtWidgets.QApplication(sys.argv)\n",
    "    qapp.setStyle(\"Fusion\")\n",
    "    data = xr.open_dataarray(\n",
    "        \"/Users/khan/Documents/ERLab/CsV3Sb5/2021_Dec_ALS_CV3Sb5/Data/cvs_kxy_small.nc\"\n",
    "    )\n",
    "    demo = ImageSlicerArea()\n",
    "    demo.set_data(data)\n",
    "    demo.show()\n",
    "    demo.raise_()"
   ]
  },
  {
   "cell_type": "code",
   "execution_count": 6,
   "metadata": {},
   "outputs": [
    {
     "data": {
      "text/plain": [
       "1039"
      ]
     },
     "execution_count": 6,
     "metadata": {},
     "output_type": "execute_result"
    }
   ],
   "source": [
    "data = xr.open_dataarray(\n",
    "        \"/Users/khan/Documents/ERLab/CsV3Sb5/2021_Dec_ALS_CV3Sb5/Data/cvs_kxy_small.nc\"\n",
    "    )\n",
    "\n",
    "lims = data._slicer.lims\n",
    "incs = data._slicer.incs\n",
    "import numba\n",
    "@numba.njit\n",
    "def index_of_value(axis, val, lims, incs, shape):\n",
    "    ind = min(\n",
    "        round((val - lims[axis][0]) / incs[axis]),\n",
    "        shape[axis] - 1,\n",
    "    )\n",
    "    if ind < 0:\n",
    "        return 0\n",
    "    return ind\n",
    "\n",
    "index_of_value(0, 12.3222, lims, incs, data.shape)"
   ]
  },
  {
   "cell_type": "code",
   "execution_count": 7,
   "metadata": {},
   "outputs": [
    {
     "data": {
      "text/plain": [
       "[519, 41, 83]"
      ]
     },
     "execution_count": 7,
     "metadata": {},
     "output_type": "execute_result"
    }
   ],
   "source": [
    "data._slicer.indices"
   ]
  },
  {
   "cell_type": "code",
   "execution_count": 10,
   "metadata": {},
   "outputs": [
    {
     "data": {
      "text/plain": [
       "slice(3, 4, None)"
      ]
     },
     "execution_count": 10,
     "metadata": {},
     "output_type": "execute_result"
    }
   ],
   "source": [
    "@numba.njit\n",
    "def _bin_slice(center, window):\n",
    "    return center - window // 2, center + (window - 1) // 2 + 1\n",
    "\n",
    "slice(*_bin_slice(3, 1))"
   ]
  },
  {
   "cell_type": "code",
   "execution_count": 18,
   "metadata": {},
   "outputs": [
    {
     "data": {
      "text/plain": [
       "[0, 1]"
      ]
     },
     "execution_count": 18,
     "metadata": {},
     "output_type": "execute_result"
    }
   ],
   "source": []
  },
  {
   "cell_type": "code",
   "execution_count": 14,
   "metadata": {},
   "outputs": [
    {
     "data": {
      "text/plain": [
       "array([[[[nan],\n",
       "         [nan],\n",
       "         [nan],\n",
       "         ...,\n",
       "         [nan],\n",
       "         [nan],\n",
       "         [nan]],\n",
       "\n",
       "        [[nan],\n",
       "         [nan],\n",
       "         [nan],\n",
       "         ...,\n",
       "         [nan],\n",
       "         [nan],\n",
       "         [nan]],\n",
       "\n",
       "        [[nan],\n",
       "         [nan],\n",
       "         [nan],\n",
       "         ...,\n",
       "         [ 0.],\n",
       "         [ 0.],\n",
       "         [ 0.]],\n",
       "\n",
       "        ...,\n",
       "\n",
       "        [[nan],\n",
       "         [nan],\n",
       "         [nan],\n",
       "         ...,\n",
       "         [nan],\n",
       "         [nan],\n",
       "         [nan]],\n",
       "\n",
       "        [[nan],\n",
       "         [nan],\n",
       "         [nan],\n",
       "         ...,\n",
       "         [nan],\n",
       "         [nan],\n",
       "         [nan]],\n",
       "\n",
       "        [[nan],\n",
       "         [nan],\n",
       "         [nan],\n",
       "         ...,\n",
       "         [nan],\n",
       "         [nan],\n",
       "         [nan]]],\n",
       "\n",
       "\n",
       "       [[[nan],\n",
       "         [nan],\n",
       "         [nan],\n",
       "         ...,\n",
       "         [nan],\n",
       "         [nan],\n",
       "         [nan]],\n",
       "\n",
       "        [[nan],\n",
       "         [nan],\n",
       "         [nan],\n",
       "         ...,\n",
       "         [nan],\n",
       "         [nan],\n",
       "         [nan]],\n",
       "\n",
       "        [[nan],\n",
       "         [nan],\n",
       "         [nan],\n",
       "         ...,\n",
       "         [ 0.],\n",
       "         [ 0.],\n",
       "         [ 0.]],\n",
       "\n",
       "        ...,\n",
       "\n",
       "        [[nan],\n",
       "         [nan],\n",
       "         [nan],\n",
       "         ...,\n",
       "         [nan],\n",
       "         [nan],\n",
       "         [nan]],\n",
       "\n",
       "        [[nan],\n",
       "         [nan],\n",
       "         [nan],\n",
       "         ...,\n",
       "         [nan],\n",
       "         [nan],\n",
       "         [nan]],\n",
       "\n",
       "        [[nan],\n",
       "         [nan],\n",
       "         [nan],\n",
       "         ...,\n",
       "         [nan],\n",
       "         [nan],\n",
       "         [nan]]],\n",
       "\n",
       "\n",
       "       [[[nan],\n",
       "         [nan],\n",
       "         [nan],\n",
       "         ...,\n",
       "         [nan],\n",
       "         [nan],\n",
       "         [nan]],\n",
       "\n",
       "        [[nan],\n",
       "         [nan],\n",
       "         [nan],\n",
       "         ...,\n",
       "         [nan],\n",
       "         [nan],\n",
       "         [nan]],\n",
       "\n",
       "        [[nan],\n",
       "         [nan],\n",
       "         [nan],\n",
       "         ...,\n",
       "         [ 0.],\n",
       "         [ 0.],\n",
       "         [ 0.]],\n",
       "\n",
       "        ...,\n",
       "\n",
       "        [[nan],\n",
       "         [nan],\n",
       "         [nan],\n",
       "         ...,\n",
       "         [nan],\n",
       "         [nan],\n",
       "         [nan]],\n",
       "\n",
       "        [[nan],\n",
       "         [nan],\n",
       "         [nan],\n",
       "         ...,\n",
       "         [nan],\n",
       "         [nan],\n",
       "         [nan]],\n",
       "\n",
       "        [[nan],\n",
       "         [nan],\n",
       "         [nan],\n",
       "         ...,\n",
       "         [nan],\n",
       "         [nan],\n",
       "         [nan]]],\n",
       "\n",
       "\n",
       "       ...,\n",
       "\n",
       "\n",
       "       [[[nan],\n",
       "         [nan],\n",
       "         [nan],\n",
       "         ...,\n",
       "         [nan],\n",
       "         [nan],\n",
       "         [nan]],\n",
       "\n",
       "        [[nan],\n",
       "         [nan],\n",
       "         [nan],\n",
       "         ...,\n",
       "         [ 0.],\n",
       "         [ 0.],\n",
       "         [nan]],\n",
       "\n",
       "        [[nan],\n",
       "         [nan],\n",
       "         [nan],\n",
       "         ...,\n",
       "         [ 0.],\n",
       "         [ 0.],\n",
       "         [ 0.]],\n",
       "\n",
       "        ...,\n",
       "\n",
       "        [[nan],\n",
       "         [nan],\n",
       "         [nan],\n",
       "         ...,\n",
       "         [nan],\n",
       "         [nan],\n",
       "         [nan]],\n",
       "\n",
       "        [[nan],\n",
       "         [nan],\n",
       "         [nan],\n",
       "         ...,\n",
       "         [nan],\n",
       "         [nan],\n",
       "         [nan]],\n",
       "\n",
       "        [[nan],\n",
       "         [nan],\n",
       "         [nan],\n",
       "         ...,\n",
       "         [nan],\n",
       "         [nan],\n",
       "         [nan]]],\n",
       "\n",
       "\n",
       "       [[[nan],\n",
       "         [nan],\n",
       "         [nan],\n",
       "         ...,\n",
       "         [nan],\n",
       "         [nan],\n",
       "         [nan]],\n",
       "\n",
       "        [[nan],\n",
       "         [nan],\n",
       "         [nan],\n",
       "         ...,\n",
       "         [ 0.],\n",
       "         [ 0.],\n",
       "         [nan]],\n",
       "\n",
       "        [[nan],\n",
       "         [nan],\n",
       "         [nan],\n",
       "         ...,\n",
       "         [ 0.],\n",
       "         [ 0.],\n",
       "         [ 0.]],\n",
       "\n",
       "        ...,\n",
       "\n",
       "        [[nan],\n",
       "         [nan],\n",
       "         [nan],\n",
       "         ...,\n",
       "         [nan],\n",
       "         [nan],\n",
       "         [nan]],\n",
       "\n",
       "        [[nan],\n",
       "         [nan],\n",
       "         [nan],\n",
       "         ...,\n",
       "         [nan],\n",
       "         [nan],\n",
       "         [nan]],\n",
       "\n",
       "        [[nan],\n",
       "         [nan],\n",
       "         [nan],\n",
       "         ...,\n",
       "         [nan],\n",
       "         [nan],\n",
       "         [nan]]],\n",
       "\n",
       "\n",
       "       [[[nan],\n",
       "         [nan],\n",
       "         [nan],\n",
       "         ...,\n",
       "         [nan],\n",
       "         [nan],\n",
       "         [nan]],\n",
       "\n",
       "        [[nan],\n",
       "         [nan],\n",
       "         [nan],\n",
       "         ...,\n",
       "         [ 0.],\n",
       "         [ 0.],\n",
       "         [nan]],\n",
       "\n",
       "        [[nan],\n",
       "         [nan],\n",
       "         [nan],\n",
       "         ...,\n",
       "         [ 0.],\n",
       "         [ 0.],\n",
       "         [ 0.]],\n",
       "\n",
       "        ...,\n",
       "\n",
       "        [[nan],\n",
       "         [nan],\n",
       "         [nan],\n",
       "         ...,\n",
       "         [nan],\n",
       "         [nan],\n",
       "         [nan]],\n",
       "\n",
       "        [[nan],\n",
       "         [nan],\n",
       "         [nan],\n",
       "         ...,\n",
       "         [nan],\n",
       "         [nan],\n",
       "         [nan]],\n",
       "\n",
       "        [[nan],\n",
       "         [nan],\n",
       "         [nan],\n",
       "         ...,\n",
       "         [nan],\n",
       "         [nan],\n",
       "         [nan]]]])"
      ]
     },
     "execution_count": 14,
     "metadata": {},
     "output_type": "execute_result"
    }
   ],
   "source": [
    "@numba.njit\n",
    "def return_transposed(arr):\n",
    "    if arr.ndim == 2:\n",
    "        return arr.T\n",
    "    elif arr.ndim == 3:\n",
    "        return arr.transpose(1, 2, 0)\n",
    "    elif arr.ndim == 4:\n",
    "        return arr.transpose(1, 2, 3, 0)\n",
    "\n"
   ]
  },
  {
   "cell_type": "code",
   "execution_count": 68,
   "metadata": {},
   "outputs": [
    {
     "data": {
      "text/plain": [
       "True"
      ]
     },
     "execution_count": 68,
     "metadata": {},
     "output_type": "execute_result"
    }
   ],
   "source": [
    "any(elem not in [0, 1] for elem in [0, 2])"
   ]
  },
  {
   "cell_type": "code",
   "execution_count": 39,
   "metadata": {},
   "outputs": [
    {
     "data": {
      "text/plain": [
       "PySide6.QtGui.QColor.fromRgbF(1.000000, 1.000000, 1.000000, 0.749996)"
      ]
     },
     "execution_count": 39,
     "metadata": {},
     "output_type": "execute_result"
    }
   ],
   "source": [
    "\n",
    "clr = pg.mkColor(\"w\")\n",
    "clr.setAlphaF(0.75)\n",
    "clr"
   ]
  },
  {
   "cell_type": "code",
   "execution_count": 49,
   "metadata": {},
   "outputs": [
    {
     "data": {
      "text/plain": [
       "(255, 255, 255, 191)"
      ]
     },
     "execution_count": 49,
     "metadata": {},
     "output_type": "execute_result"
    }
   ],
   "source": [
    "clr.toTuple()"
   ]
  },
  {
   "cell_type": "code",
   "execution_count": 98,
   "metadata": {},
   "outputs": [
    {
     "data": {
      "text/plain": [
       "[1, 2, 3, 6, 11, 12, 13, 16]"
      ]
     },
     "execution_count": 98,
     "metadata": {},
     "output_type": "execute_result"
    }
   ],
   "source": [
    "profile_axes = [1, 2, 3, 6]\n",
    "profile_axes_new = []\n",
    "for i in range(2):\n",
    "    profile_axes_new += [10 * i + p for p in profile_axes]\n",
    "profile_axes_new"
   ]
  },
  {
   "cell_type": "code",
   "execution_count": 110,
   "metadata": {},
   "outputs": [
    {
     "data": {
      "text/plain": [
       "[1,\n",
       " 2,\n",
       " 3,\n",
       " 6,\n",
       " 11,\n",
       " 12,\n",
       " 13,\n",
       " 16,\n",
       " 21,\n",
       " 22,\n",
       " 23,\n",
       " 26,\n",
       " 31,\n",
       " 32,\n",
       " 33,\n",
       " 36,\n",
       " 41,\n",
       " 42,\n",
       " 43,\n",
       " 46,\n",
       " 51,\n",
       " 52,\n",
       " 53,\n",
       " 56]"
      ]
     },
     "execution_count": 110,
     "metadata": {},
     "output_type": "execute_result"
    }
   ],
   "source": [
    "profile_axes = [1, 2, 3, 6]\n",
    "profile_axes = [10 * i + p for i in range(6) for p in profile_axes]\n",
    "profile_axes"
   ]
  },
  {
   "cell_type": "code",
   "execution_count": 2,
   "metadata": {},
   "outputs": [],
   "source": [
    "data = xr.open_dataarray(\n",
    "    \"/Users/khan/Documents/ERLab/CsV3Sb5/2021_Dec_ALS_CV3Sb5/Data/cvs_kxy_small.nc\"\n",
    ")"
   ]
  },
  {
   "cell_type": "code",
   "execution_count": 4,
   "metadata": {},
   "outputs": [
    {
     "data": {
      "text/plain": [
       "0"
      ]
     },
     "execution_count": 4,
     "metadata": {},
     "output_type": "execute_result"
    }
   ],
   "source": [
    "%gui qt\n",
    "app = pg.mkQApp(\"Crosshair Example\")\n",
    "win = pg.GraphicsLayoutWidget(show=True)\n",
    "win.setWindowTitle('pyqtgraph example: crosshair')\n",
    "# label = pg.LabelItem(justify='right')\n",
    "# win.addItem(label)\n",
    "p1 = win.addPlot()\n",
    "i1 = pg.ImageItem()\n",
    "i1.setImage(data.sel(eV=-0.5, method=\"nearest\").values)\n",
    "i2 = pg.ImageItem()\n",
    "i2.setImage(data.sel(eV=-0, method=\"nearest\").values)\n",
    "p1.addItem(i1)\n",
    "p1.addItem(i2)\n",
    "i2.setVisible(False)\n",
    "pg.exec()"
   ]
  },
  {
   "cell_type": "code",
   "execution_count": 83,
   "metadata": {},
   "outputs": [
    {
     "name": "stdout",
     "output_type": "stream",
     "text": [
      "1\n"
     ]
    }
   ],
   "source": [
    "for i in range(1, 1):\n",
    "    print(i)"
   ]
  },
  {
   "cell_type": "code",
   "execution_count": 68,
   "metadata": {},
   "outputs": [
    {
     "ename": "AttributeError",
     "evalue": "'ItoolPlotDataItem' object has no attribute 'listDataItems'",
     "output_type": "error",
     "traceback": [
      "\u001b[0;31m---------------------------------------------------------------------------\u001b[0m",
      "\u001b[0;31mAttributeError\u001b[0m                            Traceback (most recent call last)",
      "\u001b[1;32m/Users/khan/Source/python/erlabpy/erlab/plotting/itool_testing.ipynb Cell 7\u001b[0m in \u001b[0;36m<cell line: 1>\u001b[0;34m()\u001b[0m\n\u001b[0;32m----> <a href='vscode-notebook-cell:/Users/khan/Source/python/erlabpy/erlab/plotting/itool_testing.ipynb#Y120sZmlsZQ%3D%3D?line=0'>1</a>\u001b[0m demo\u001b[39m.\u001b[39;49mprofiles[\u001b[39m0\u001b[39;49m]\u001b[39m.\u001b[39;49mlistDataItems()\n",
      "\u001b[0;31mAttributeError\u001b[0m: 'ItoolPlotDataItem' object has no attribute 'listDataItems'"
     ]
    }
   ],
   "source": [
    "demo.profiles[0]."
   ]
  },
  {
   "cell_type": "code",
   "execution_count": 62,
   "metadata": {},
   "outputs": [
    {
     "name": "stderr",
     "output_type": "stream",
     "text": [
      "qt.pointer.dispatch: delivering touch release to same window QWidgetWindow(0x16a0b32d0, name=\"ImageSlicerClassWindow\") not QWidgetWindow(0x2e428e290, name=\"PlotWidgetClassWindow\")\n",
      "qt.pointer.dispatch: delivering touch release to same window QWindow(0x0) not QWidgetWindow(0x16a0b32d0, name=\"ImageSlicerClassWindow\")\n",
      "qt.pointer.dispatch: skipping QEventPoint(id=3 ts=0 pos=0,0 scn=652.92,619.905 gbl=652.92,619.905 Released ellipse=(1x1 ∡ 0) vel=0,0 press=-652.92,-619.905 last=-652.92,-619.905 Δ 652.92,619.905) : no target window\n",
      "qt.pointer.dispatch: skipping QEventPoint(id=4 ts=0 pos=0,0 scn=637.8,670.845 gbl=637.8,670.845 Released ellipse=(1x1 ∡ 0) vel=0,0 press=-637.8,-670.845 last=-637.8,-670.845 Δ 637.8,670.845) : no target window\n"
     ]
    }
   ],
   "source": [
    "# demo._container_bottom.stretch()\n",
    "%gui qt\n",
    "\n",
    "pw = pg.PlotWidget()\n",
    "img = pg.PlotDataItem()\n",
    "\n",
    "pw.addItem(img)\n",
    "rect, vals = data._slicer.slice_with_coord((0,))\n",
    "# img.setImage(img=vals)\n",
    "img.setData(rect, vals)\n",
    "pw.show()"
   ]
  },
  {
   "cell_type": "code",
   "execution_count": 44,
   "metadata": {},
   "outputs": [
    {
     "data": {
      "text/plain": [
       "<matplotlib.image.AxesImage at 0x2887b1270>"
      ]
     },
     "execution_count": 44,
     "metadata": {},
     "output_type": "execute_result"
    },
    {
     "data": {
      "image/png": "[encoded data removed]",
      "text/plain": [
       "<Figure size 432x288 with 1 Axes>"
      ]
     },
     "metadata": {
      "needs_background": "light"
     },
     "output_type": "display_data"
    }
   ],
   "source": [
    "from matplotlib import pyplot as plt\n",
    "plt.imshow(vals)"
   ]
  },
  {
   "cell_type": "code",
   "execution_count": 46,
   "metadata": {},
   "outputs": [
    {
     "ename": "AttributeError",
     "evalue": "'numpy.ndarray' object has no attribute 'fillna'",
     "output_type": "error",
     "traceback": [
      "\u001b[0;31m---------------------------------------------------------------------------\u001b[0m",
      "\u001b[0;31mAttributeError\u001b[0m                            Traceback (most recent call last)",
      "\u001b[1;32m/Users/khan/Source/python/erlabpy/erlab/plotting/itool_testing.ipynb Cell 9\u001b[0m in \u001b[0;36m<cell line: 1>\u001b[0;34m()\u001b[0m\n\u001b[0;32m----> <a href='vscode-notebook-cell:/Users/khan/Source/python/erlabpy/erlab/plotting/itool_testing.ipynb#Y115sZmlsZQ%3D%3D?line=0'>1</a>\u001b[0m vals\u001b[39m.\u001b[39;49mfillna(\u001b[39m0\u001b[39m)\n",
      "\u001b[0;31mAttributeError\u001b[0m: 'numpy.ndarray' object has no attribute 'fillna'"
     ]
    }
   ],
   "source": []
  },
  {
   "cell_type": "code",
   "execution_count": 36,
   "metadata": {},
   "outputs": [
    {
     "data": {
      "text/plain": [
       "(-1.3496800065040588, -1.35, 1.699361801147461, 0.28000000000000136)"
      ]
     },
     "execution_count": 36,
     "metadata": {},
     "output_type": "execute_result"
    }
   ],
   "source": [
    "rect"
   ]
  },
  {
   "cell_type": "code",
   "execution_count": 40,
   "metadata": {},
   "outputs": [
    {
     "data": {
      "text/plain": [
       "PySide6.QtCore.QRectF(-1.349680, -1.350000, 1.699362, 1.660000)"
      ]
     },
     "execution_count": 40,
     "metadata": {},
     "output_type": "execute_result"
    }
   ],
   "source": [
    "rect"
   ]
  },
  {
   "cell_type": "code",
   "execution_count": null,
   "metadata": {},
   "outputs": [],
   "source": [
    "QtCore.QRectF"
   ]
  },
  {
   "cell_type": "code",
   "execution_count": 30,
   "metadata": {},
   "outputs": [
    {
     "data": {
      "text/plain": [
       "<matplotlib.image.AxesImage at 0x2e4d67580>"
      ]
     },
     "execution_count": 30,
     "metadata": {},
     "output_type": "execute_result"
    },
    {
     "data": {
      "image/png": "[encoded data removed]",
      "text/plain": [
       "<Figure size 432x288 with 1 Axes>"
      ]
     },
     "metadata": {
      "needs_background": "light"
     },
     "output_type": "display_data"
    }
   ],
   "source": [
    "rect, arr = data._slicer.slice_with_coord((1, 2))\n",
    "\n",
    "import matplotlib.pyplot as plt\n",
    "\n",
    "plt.imshow(arr, )"
   ]
  },
  {
   "cell_type": "code",
   "execution_count": 15,
   "metadata": {},
   "outputs": [
    {
     "data": {
      "text/plain": [
       "(<__main__.ItoolPlotWidget(0x1360d9d10) at 0x2883ebe80>,\n",
       " <__main__.ItoolPlotWidget(0x28c736770) at 0x285c09ec0>,\n",
       " <__main__.ItoolPlotWidget(0x28c864ca0) at 0x28a0ea240>)"
      ]
     },
     "execution_count": 15,
     "metadata": {},
     "output_type": "execute_result"
    }
   ],
   "source": []
  },
  {
   "cell_type": "code",
   "execution_count": 28,
   "metadata": {},
   "outputs": [
    {
     "data": {
      "text/plain": [
       "(55, 25)"
      ]
     },
     "execution_count": 28,
     "metadata": {},
     "output_type": "execute_result"
    }
   ],
   "source": [
    "demo._container_top.stretch()"
   ]
  },
  {
   "cell_type": "code",
   "execution_count": 69,
   "metadata": {},
   "outputs": [],
   "source": [
    "l1 = [0, 1, 2, 3]\n",
    "l2 = l1\n",
    "l2.remove(3)"
   ]
  },
  {
   "cell_type": "code",
   "execution_count": 76,
   "metadata": {},
   "outputs": [
    {
     "data": {
      "text/plain": [
       "('eV', 'kx', 'ky')"
      ]
     },
     "execution_count": 76,
     "metadata": {},
     "output_type": "execute_result"
    }
   ],
   "source": [
    "dat.dims"
   ]
  },
  {
   "cell_type": "code",
   "execution_count": 51,
   "metadata": {},
   "outputs": [],
   "source": [
    "demo.get_axes(1).addItem(xImageItem())"
   ]
  },
  {
   "cell_type": "code",
   "execution_count": null,
   "metadata": {},
   "outputs": [],
   "source": [
    "pg.PlotWidget"
   ]
  },
  {
   "cell_type": "code",
   "execution_count": 3,
   "metadata": {},
   "outputs": [
    {
     "data": {
      "text/plain": [
       "[0, '', '', 3]"
      ]
     },
     "execution_count": 3,
     "metadata": {},
     "output_type": "execute_result"
    }
   ],
   "source": [
    "[i if i not in (1, 2) else for i in range(4)]"
   ]
  },
  {
   "cell_type": "code",
   "execution_count": 7,
   "metadata": {},
   "outputs": [
    {
     "data": {
      "text/plain": [
       "[0, 3]"
      ]
     },
     "execution_count": 7,
     "metadata": {},
     "output_type": "execute_result"
    }
   ],
   "source": []
  },
  {
   "cell_type": "code",
   "execution_count": 78,
   "metadata": {},
   "outputs": [],
   "source": [
    "dat_4d = xr.open_dataarray(\n",
    "        \"/Users/khan/Documents/ERLab/TiSe2/220410_ALS_BL4/map_mm_4d.nc\"\n",
    "    )"
   ]
  },
  {
   "cell_type": "code",
   "execution_count": 79,
   "metadata": {},
   "outputs": [
    {
     "data": {
      "text/plain": [
       "(3, 1040, 108, 608)"
      ]
     },
     "execution_count": 79,
     "metadata": {},
     "output_type": "execute_result"
    }
   ],
   "source": [
    "dat_4d.values.shape"
   ]
  },
  {
   "cell_type": "code",
   "execution_count": 86,
   "metadata": {},
   "outputs": [
    {
     "data": {
      "text/plain": [
       "(1040, 3)"
      ]
     },
     "execution_count": 86,
     "metadata": {},
     "output_type": "execute_result"
    }
   ],
   "source": [
    "dat_4d._slicer.extract_slice((2,3)).shape"
   ]
  },
  {
   "cell_type": "code",
   "execution_count": 53,
   "metadata": {},
   "outputs": [],
   "source": [
    "pw=  demo.get_axes(1)"
   ]
  },
  {
   "cell_type": "code",
   "execution_count": null,
   "metadata": {},
   "outputs": [],
   "source": [
    "pw.find"
   ]
  },
  {
   "cell_type": "code",
   "execution_count": 5,
   "metadata": {},
   "outputs": [
    {
     "data": {
      "text/plain": [
       "<pyqtgraph.dockarea.Container.HContainer(0x281366d90) at 0x2812206c0>"
      ]
     },
     "execution_count": 5,
     "metadata": {},
     "output_type": "execute_result"
    }
   ],
   "source": [
    "demo.getLargeContainer(demo.get_dock(0))"
   ]
  },
  {
   "cell_type": "code",
   "execution_count": 138,
   "metadata": {},
   "outputs": [
    {
     "data": {
      "text/plain": [
       "<pyqtgraph.dockarea.Container.VContainer(0x2d0bb1f30) at 0x2d347a280>"
      ]
     },
     "execution_count": 138,
     "metadata": {},
     "output_type": "execute_result"
    }
   ],
   "source": [
    "demo.topContainer"
   ]
  },
  {
   "cell_type": "code",
   "execution_count": 109,
   "metadata": {},
   "outputs": [
    {
     "data": {
      "text/plain": [
       "<__main__.DockDemo(0x2d0375eb0) at 0x2d17a6680>"
      ]
     },
     "execution_count": 109,
     "metadata": {},
     "output_type": "execute_result"
    }
   ],
   "source": [
    "demo.get_dock(1).container().container().container().container()"
   ]
  },
  {
   "cell_type": "code",
   "execution_count": 147,
   "metadata": {},
   "outputs": [
    {
     "name": "stdout",
     "output_type": "stream",
     "text": [
      "0\n",
      "1\n",
      "2\n",
      "3\n",
      "4\n"
     ]
    }
   ],
   "source": [
    "i=0\n",
    "j=0\n",
    "while i != 5:\n",
    "    j = i\n",
    "    i = i + 1\n",
    "    print(j)\n",
    "    # print(i)\n",
    "    "
   ]
  },
  {
   "cell_type": "code",
   "execution_count": 112,
   "metadata": {},
   "outputs": [
    {
     "data": {
      "text/plain": [
       "<pyqtgraph.dockarea.Container.VContainer(0x2d09215a0) at 0x2af23cf80>"
      ]
     },
     "execution_count": 112,
     "metadata": {},
     "output_type": "execute_result"
    }
   ],
   "source": [
    "demo.topContainer."
   ]
  },
  {
   "cell_type": "code",
   "execution_count": 97,
   "metadata": {},
   "outputs": [
    {
     "data": {
      "text/plain": [
       "['1', '0', '2', '3', '4', '5', '9']"
      ]
     },
     "execution_count": 97,
     "metadata": {},
     "output_type": "execute_result"
    }
   ],
   "source": [
    "list(demo.docks.keys())"
   ]
  },
  {
   "cell_type": "code",
   "execution_count": 89,
   "metadata": {},
   "outputs": [
    {
     "data": {
      "text/plain": [
       "2"
      ]
     },
     "execution_count": 89,
     "metadata": {},
     "output_type": "execute_result"
    }
   ],
   "source": [
    "len(dict(a=1, b=3))"
   ]
  },
  {
   "cell_type": "code",
   "execution_count": 57,
   "metadata": {},
   "outputs": [
    {
     "data": {
      "text/plain": [
       "<pyqtgraph.dockarea.Container.HContainer(0x298061e40) at 0x29780b400>"
      ]
     },
     "execution_count": 57,
     "metadata": {},
     "output_type": "execute_result"
    }
   ],
   "source": [
    "demo.docks[0].container()"
   ]
  },
  {
   "cell_type": "code",
   "execution_count": 58,
   "metadata": {},
   "outputs": [
    {
     "data": {
      "text/plain": [
       "<pyqtgraph.dockarea.Container.HContainer(0x298077a60) at 0x28d045ec0>"
      ]
     },
     "execution_count": 58,
     "metadata": {},
     "output_type": "execute_result"
    }
   ],
   "source": [
    "demo.docks[3].container()"
   ]
  },
  {
   "cell_type": "code",
   "execution_count": 49,
   "metadata": {},
   "outputs": [
    {
     "data": {
      "text/plain": [
       "[72, 641]"
      ]
     },
     "execution_count": 49,
     "metadata": {},
     "output_type": "execute_result"
    }
   ],
   "source": [
    "demo.docks[3].container().sizes()"
   ]
  },
  {
   "cell_type": "code",
   "execution_count": 30,
   "metadata": {},
   "outputs": [],
   "source": [
    "containers, _ = demo.dockarea.findAll()"
   ]
  },
  {
   "cell_type": "code",
   "execution_count": 26,
   "metadata": {},
   "outputs": [
    {
     "data": {
      "text/plain": [
       "[357, 356]"
      ]
     },
     "execution_count": 26,
     "metadata": {},
     "output_type": "execute_result"
    }
   ],
   "source": []
  },
  {
   "cell_type": "code",
   "execution_count": 114,
   "metadata": {},
   "outputs": [
    {
     "data": {
      "text/plain": [
       "PySide6.QtCore.Qt.DockWidgetAreaSizes.NDockWidgetAreas"
      ]
     },
     "execution_count": 114,
     "metadata": {},
     "output_type": "execute_result"
    }
   ],
   "source": [
    "demo."
   ]
  },
  {
   "cell_type": "code",
   "execution_count": 3,
   "metadata": {},
   "outputs": [
    {
     "data": {
      "text/plain": [
       "(1,)"
      ]
     },
     "execution_count": 3,
     "metadata": {},
     "output_type": "execute_result"
    }
   ],
   "source": [
    "ls = [None, 13, None]\n",
    "\n",
    "tuple(i for i, x in enumerate(ls) if x != None)"
   ]
  },
  {
   "cell_type": "code",
   "execution_count": 174,
   "metadata": {},
   "outputs": [],
   "source": [
    "import pyqtgraph.jupyter\n",
    "\n",
    "pyqtgraph.jupyter.GraphicsLayoutWidget"
   ]
  }
 ],
 "metadata": {
  "kernelspec": {
   "display_name": "Python 3.10.5 ('erlabenv')",
   "language": "python",
   "name": "python3"
  },
  "language_info": {
   "codemirror_mode": {
    "name": "ipython",
    "version": 3
   },
   "file_extension": ".py",
   "mimetype": "text/x-python",
   "name": "python",
   "nbconvert_exporter": "python",
   "pygments_lexer": "ipython3",
   "version": "3.10.9"
  },
  "orig_nbformat": 4,
  "vscode": {
   "interpreter": {
    "hash": "0b915c875bb2edf8eca4c0d5b7fdc65ddf1793e25766745fbcd0ad593d3d2890"
   }
  }
 },
 "nbformat": 4,
 "nbformat_minor": 2
}
