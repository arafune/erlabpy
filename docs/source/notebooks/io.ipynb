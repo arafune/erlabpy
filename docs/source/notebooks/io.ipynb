{
 "cells": [
  {
   "cell_type": "raw",
   "metadata": {
    "editable": true,
    "raw_mimetype": "text/restructuredtext",
    "slideshow": {
     "slide_type": ""
    },
    "tags": []
   },
   "source": [
    "============\n",
    "Loading data\n",
    "============\n",
    "\n",
    "ARPES data are loaded as :class:`xarray.Dataset` s or :class:`xarray.DataArray` s. :class:`xarray.DataArray` are similar to waves in igor pro, but the major difference is that the coordinate values are directly stored rather than computed from scaling. Hence, the coordinates do not have to be evenly spaced, and they may not be ordered. However in the context of loaded ARPES data, the coordinates will almost always be ordered.\n",
    "\n",
    "WIP"
   ]
  },
  {
   "cell_type": "code",
   "execution_count": 2,
   "metadata": {
    "editable": true,
    "slideshow": {
     "slide_type": ""
    },
    "tags": []
   },
   "outputs": [],
   "source": [
    "import erlab.io\n"
   ]
  }
 ],
 "metadata": {
  "kernelspec": {
   "display_name": "Python 3 (ipykernel)",
   "language": "python",
   "name": "python3"
  },
  "language_info": {
   "codemirror_mode": {
    "name": "ipython",
    "version": 3
   },
   "file_extension": ".py",
   "mimetype": "text/x-python",
   "name": "python",
   "nbconvert_exporter": "python",
   "pygments_lexer": "ipython3",
   "version": "3.11.7"
  }
 },
 "nbformat": 4,
 "nbformat_minor": 4
}
