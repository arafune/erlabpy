{
 "cells": [
  {
   "cell_type": "raw",
   "metadata": {
    "editable": true,
    "raw_mimetype": "text/restructuredtext",
    "slideshow": {
     "slide_type": ""
    },
    "tags": []
   },
   "source": [
    "Loading data\n",
    "============\n",
    "\n",
    "ARPES data are loaded as :class:`xarray.Dataset` objects or :class:`xarray.DataArray` objects. :class:`xarray.DataArray` are similar to waves in igor pro, but are much more flexible. Apposed to the maximum of 4 dimensions in igor pro, :class:`xarray.DataArray` can have as many dimensions as you want (up to 64). Another advantage is that the coordinates of the dimensions do not have to be evenly spaced. In fact, they are not limited to numbers, but can be any type of data, such as date and time representations.\n",
    "\n",
    ".. admonition:: Work in Progress\n",
    "   :class: warning\n",
    "\n",
    "   This guide is a work in progress. In the meantime, check out the examples at\n",
    "   :doc:`../erlab.io`\\ .\n",
    "\n",
    "ERLabPy's data loading framework consists of various plugins, or *loaders*, each\n",
    "designed to load data from a different beamline or laboratory. Each loader is a\n",
    "class that has a ``load`` method that takes a file path or sequence number as\n",
    "input and returns the corresponding data.\n",
    "\n",
    "Let's see the list of loaders available by default:"
   ]
  },
  {
   "cell_type": "code",
   "execution_count": 1,
   "metadata": {
    "editable": true,
    "slideshow": {
     "slide_type": ""
    },
    "tags": []
   },
   "outputs": [
    {
     "data": {
      "text/html": [
       "<table><thead><tr><th style='text-align:left;'><b>Name</b></th><th style='text-align:left;'><b>Aliases</b></th><th style='text-align:left;'><b>Loader class</b></th></tr></thead><tbody><tr><td style='text-align:left;'>kriss</td><td style='text-align:left;'>KRISS</td><td style='text-align:left;'>erlab.io.plugins.kriss.KRISSLoader</td></tr><tr><td style='text-align:left;'>merlin</td><td style='text-align:left;'>ALS_BL4, als_bl4, BL403, bl403</td><td style='text-align:left;'>erlab.io.plugins.merlin.BL403Loader</td></tr><tr><td style='text-align:left;'>ssrl</td><td style='text-align:left;'>ssrl52, bl5-2</td><td style='text-align:left;'>erlab.io.plugins.ssrl52.SSRL52Loader</td></tr></tbody></table>"
      ],
      "text/plain": [
       "Registered data loaders\n",
       "=======================\n",
       "\n",
       "Loaders\n",
       "-------\n",
       "kriss: <class 'erlab.io.plugins.kriss.KRISSLoader'>\n",
       "merlin: <erlab.io.plugins.merlin.BL403Loader object at 0x1216a5790>\n",
       "ssrl: <erlab.io.plugins.ssrl52.SSRL52Loader object at 0x1238c30d0>\n",
       "\n",
       "Aliases\n",
       "-------\n",
       "kriss: ['KRISS']\n",
       "merlin: ['ALS_BL4', 'als_bl4', 'BL403', 'bl403']\n",
       "ssrl: ['ssrl52', 'bl5-2']"
      ]
     },
     "execution_count": 1,
     "metadata": {},
     "output_type": "execute_result"
    }
   ],
   "source": [
    "import erlab.io\n",
    "\n",
    "erlab.io.loaders"
   ]
  },
  {
   "cell_type": "raw",
   "metadata": {
    "editable": true,
    "raw_mimetype": "text/restructuredtext",
    "slideshow": {
     "slide_type": ""
    },
    "tags": []
   },
   "source": [
    "You can access each loader by its name or alias, both as an attribute or an\n",
    "item. For example, to access the loader for the ALS beamline 4.0.3, you can use\n",
    "any of the following:"
   ]
  },
  {
   "cell_type": "code",
   "execution_count": 2,
   "metadata": {},
   "outputs": [
    {
     "data": {
      "text/plain": [
       "<erlab.io.plugins.merlin.BL403Loader at 0x1216a5790>"
      ]
     },
     "execution_count": 2,
     "metadata": {},
     "output_type": "execute_result"
    }
   ],
   "source": [
    "erlab.io.loaders[\"merlin\"]\n",
    "erlab.io.loaders[\"bl403\"]\n",
    "erlab.io.loaders.merlin\n",
    "erlab.io.loaders.bl403"
   ]
  },
  {
   "cell_type": "raw",
   "metadata": {
    "editable": true,
    "raw_mimetype": "text/restructuredtext",
    "slideshow": {
     "slide_type": ""
    },
    "tags": []
   },
   "source": [
    "For a single session, it is very common to use only one type of loader for a\n",
    "single folder with all your data. Hence, the module provides a way to set a\n",
    "default loader for a session. This is done with :func:`erlab.io.set_loader`. The\n",
    "same can be done for the data directory using :func:`erlab.io.set_data_dir`.\n",
    "\n",
    "The main function used to load ARPES data is :func:`erlab.io.load`."
   ]
  },
  {
   "cell_type": "raw",
   "metadata": {
    "editable": true,
    "raw_mimetype": "text/restructuredtext",
    "slideshow": {
     "slide_type": ""
    },
    "tags": []
   },
   "source": [
    "Advanced: implementing a data loader plugin\n",
    "-------------------------------------------\n",
    "\n",
    "It is easy to add new loaders to the framework. Any class that subclasses\n",
    ":class:`LoaderBase <erlab.io.dataloader.LoaderBase>` is automatically registered\n",
    "as a loader upon its definition. The class must have a valid ``name`` attribute,\n",
    "which is used to access the loader.\n",
    "\n",
    "If the ``name`` attribute is prefixed with an underscore, the loader is not\n",
    "registered as a loader. This is useful for abstract classes that are not meant\n",
    "to be used directly. One example is :class:`DA30Loader\n",
    "<erlab.io.plugins.da30.DA30Loader>`, which serves as a base class for\n",
    "implementing loaders for setups using the Scienta Omicron DA30 hemispherical\n",
    "analyzer with ``SES.exe``.\n",
    "\n",
    "ARPES data from a single experiment are usually stored in one folder, with files\n",
    "that look like ``file_0001.h5``, ``file_0002.h5``, etc. If the naming scheme\n",
    "does not deviate from this pattern, only two methods need to be implemented:\n",
    ":meth:`identify <erlab.io.dataloader.LoaderBase.identify>` and\n",
    ":meth:`load_single <erlab.io.dataloader.LoaderBase.load_single>`. The following\n",
    "flowchart shows the process of loading data from a single scan, given either a\n",
    "file path or a sequence number:\n",
    "\n",
    ".. image:: ../images/flowchart_single.pdf\n",
    "   :align9: center\n",
    "\n",
    "However, there are some setups where data for a single scan is saved over\n",
    "multiple files. In this case, the files will look like ``file_0001_0001.h5``,\n",
    "``file_0001_0002.h5``, etc. For these kinds of setups, an additional method\n",
    ":meth:`infer_index <erlab.io.dataloader.LoaderBase.infer_index>` must be\n",
    "implemented. The following flowchart shows the process of loading data from\n",
    "multiple files:\n",
    "\n",
    ".. image:: ../images/flowchart_multiple.pdf\n",
    "   :align: center\n",
    "\n",
    "See :doc:`../generated/erlab.io.dataloader` for more information. The\n",
    "implementation of existing loaders in the :mod:`erlab.io.plugins` module is a\n",
    "good starting point; see the `source code on github\n",
    "<https://github.com/kmnhan/erlabpy/tree/main/src/erlab/io/plugins>`_."
   ]
  },
  {
   "cell_type": "code",
   "execution_count": null,
   "metadata": {},
   "outputs": [
    {
     "data": {
      "text/html": [
       "<table><thead><tr><th style='text-align:left;'><b>Name</b></th><th style='text-align:left;'><b>Aliases</b></th><th style='text-align:left;'><b>Loader class</b></th></tr></thead><tbody><tr><td style='text-align:left;'>kriss</td><td style='text-align:left;'>KRISS</td><td style='text-align:left;'>erlab.io.plugins.kriss.KRISSLoader</td></tr><tr><td style='text-align:left;'>merlin</td><td style='text-align:left;'>ALS_BL4, als_bl4, BL403, bl403</td><td style='text-align:left;'>erlab.io.plugins.merlin.BL403Loader</td></tr><tr><td style='text-align:left;'>ssrl</td><td style='text-align:left;'>ssrl52, bl5-2</td><td style='text-align:left;'>erlab.io.plugins.ssrl52.SSRL52Loader</td></tr></tbody></table>"
      ],
      "text/plain": [
       "Registered data loaders\n",
       "=======================\n",
       "\n",
       "Loaders\n",
       "-------\n",
       "kriss: <class 'erlab.io.plugins.kriss.KRISSLoader'>\n",
       "merlin: <erlab.io.plugins.merlin.BL403Loader object at 0x1216a5790>\n",
       "ssrl: <erlab.io.plugins.ssrl52.SSRL52Loader object at 0x1238c30d0>\n",
       "\n",
       "Aliases\n",
       "-------\n",
       "kriss: ['KRISS']\n",
       "merlin: ['ALS_BL4', 'als_bl4', 'BL403', 'bl403']\n",
       "ssrl: ['ssrl52', 'bl5-2']"
      ]
     },
     "metadata": {},
     "output_type": "display_data"
    }
   ],
   "source": [
    "from erlab.io.dataloader import LoaderBase\n",
    "\n",
    "class MyLoader(LoaderBase):\n",
    "    name = 'my_loader'\n",
    "\n",
    "    skip_validate = True\n",
    "\n"
   ]
  }
 ],
 "metadata": {
  "kernelspec": {
   "display_name": "Python 3 (ipykernel)",
   "language": "python",
   "name": "python3"
  },
  "language_info": {
   "codemirror_mode": {
    "name": "ipython",
    "version": 3
   },
   "file_extension": ".py",
   "mimetype": "text/x-python",
   "name": "python",
   "nbconvert_exporter": "python",
   "pygments_lexer": "ipython3",
   "version": "3.11.8"
  }
 },
 "nbformat": 4,
 "nbformat_minor": 4
}
